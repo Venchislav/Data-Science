{
  "nbformat": 4,
  "nbformat_minor": 0,
  "metadata": {
    "colab": {
      "provenance": [],
      "authorship_tag": "ABX9TyPeW4u5ZTw09NnJ0cIzal28",
      "include_colab_link": true
    },
    "kernelspec": {
      "name": "python3",
      "display_name": "Python 3"
    },
    "language_info": {
      "name": "python"
    }
  },
  "cells": [
    {
      "cell_type": "markdown",
      "metadata": {
        "id": "view-in-github",
        "colab_type": "text"
      },
      "source": [
        "<a href=\"https://colab.research.google.com/github/Venchislav/Data-Science/blob/main/CreditCardClassificationWithKNN.ipynb\" target=\"_parent\"><img src=\"https://colab.research.google.com/assets/colab-badge.svg\" alt=\"Open In Colab\"/></a>"
      ]
    },
    {
      "cell_type": "code",
      "execution_count": 18,
      "metadata": {
        "id": "h2xDXcFsPDj_"
      },
      "outputs": [],
      "source": [
        "import pandas as pd\n",
        "import numpy as np\n",
        "from sklearn.model_selection import GridSearchCV, train_test_split\n",
        "from sklearn.neighbors import KNeighborsClassifier\n",
        "import matplotlib.pyplot as plt\n",
        "import seaborn as sns"
      ]
    },
    {
      "cell_type": "code",
      "source": [
        "df = pd.read_csv('/content/sample_data/creditcard.csv')"
      ],
      "metadata": {
        "id": "owu3aj-0UhwF"
      },
      "execution_count": 3,
      "outputs": []
    },
    {
      "cell_type": "code",
      "source": [
        "df.head()"
      ],
      "metadata": {
        "colab": {
          "base_uri": "https://localhost:8080/",
          "height": 256
        },
        "id": "jG-gQ-JYUnGI",
        "outputId": "9d67f24c-2e65-4e6d-9693-d2d18eda4c69"
      },
      "execution_count": 4,
      "outputs": [
        {
          "output_type": "execute_result",
          "data": {
            "text/plain": [
              "   Time        V1        V2        V3        V4        V5        V6        V7  \\\n",
              "0   0.0 -1.359807 -0.072781  2.536347  1.378155 -0.338321  0.462388  0.239599   \n",
              "1   0.0  1.191857  0.266151  0.166480  0.448154  0.060018 -0.082361 -0.078803   \n",
              "2   1.0 -1.358354 -1.340163  1.773209  0.379780 -0.503198  1.800499  0.791461   \n",
              "3   1.0 -0.966272 -0.185226  1.792993 -0.863291 -0.010309  1.247203  0.237609   \n",
              "4   2.0 -1.158233  0.877737  1.548718  0.403034 -0.407193  0.095921  0.592941   \n",
              "\n",
              "         V8        V9  ...       V21       V22       V23       V24       V25  \\\n",
              "0  0.098698  0.363787  ... -0.018307  0.277838 -0.110474  0.066928  0.128539   \n",
              "1  0.085102 -0.255425  ... -0.225775 -0.638672  0.101288 -0.339846  0.167170   \n",
              "2  0.247676 -1.514654  ...  0.247998  0.771679  0.909412 -0.689281 -0.327642   \n",
              "3  0.377436 -1.387024  ... -0.108300  0.005274 -0.190321 -1.175575  0.647376   \n",
              "4 -0.270533  0.817739  ... -0.009431  0.798278 -0.137458  0.141267 -0.206010   \n",
              "\n",
              "        V26       V27       V28  Amount  Class  \n",
              "0 -0.189115  0.133558 -0.021053  149.62      0  \n",
              "1  0.125895 -0.008983  0.014724    2.69      0  \n",
              "2 -0.139097 -0.055353 -0.059752  378.66      0  \n",
              "3 -0.221929  0.062723  0.061458  123.50      0  \n",
              "4  0.502292  0.219422  0.215153   69.99      0  \n",
              "\n",
              "[5 rows x 31 columns]"
            ],
            "text/html": [
              "\n",
              "  <div id=\"df-9d339cef-52a5-4b45-93ef-c5ab2a7f1ac3\" class=\"colab-df-container\">\n",
              "    <div>\n",
              "<style scoped>\n",
              "    .dataframe tbody tr th:only-of-type {\n",
              "        vertical-align: middle;\n",
              "    }\n",
              "\n",
              "    .dataframe tbody tr th {\n",
              "        vertical-align: top;\n",
              "    }\n",
              "\n",
              "    .dataframe thead th {\n",
              "        text-align: right;\n",
              "    }\n",
              "</style>\n",
              "<table border=\"1\" class=\"dataframe\">\n",
              "  <thead>\n",
              "    <tr style=\"text-align: right;\">\n",
              "      <th></th>\n",
              "      <th>Time</th>\n",
              "      <th>V1</th>\n",
              "      <th>V2</th>\n",
              "      <th>V3</th>\n",
              "      <th>V4</th>\n",
              "      <th>V5</th>\n",
              "      <th>V6</th>\n",
              "      <th>V7</th>\n",
              "      <th>V8</th>\n",
              "      <th>V9</th>\n",
              "      <th>...</th>\n",
              "      <th>V21</th>\n",
              "      <th>V22</th>\n",
              "      <th>V23</th>\n",
              "      <th>V24</th>\n",
              "      <th>V25</th>\n",
              "      <th>V26</th>\n",
              "      <th>V27</th>\n",
              "      <th>V28</th>\n",
              "      <th>Amount</th>\n",
              "      <th>Class</th>\n",
              "    </tr>\n",
              "  </thead>\n",
              "  <tbody>\n",
              "    <tr>\n",
              "      <th>0</th>\n",
              "      <td>0.0</td>\n",
              "      <td>-1.359807</td>\n",
              "      <td>-0.072781</td>\n",
              "      <td>2.536347</td>\n",
              "      <td>1.378155</td>\n",
              "      <td>-0.338321</td>\n",
              "      <td>0.462388</td>\n",
              "      <td>0.239599</td>\n",
              "      <td>0.098698</td>\n",
              "      <td>0.363787</td>\n",
              "      <td>...</td>\n",
              "      <td>-0.018307</td>\n",
              "      <td>0.277838</td>\n",
              "      <td>-0.110474</td>\n",
              "      <td>0.066928</td>\n",
              "      <td>0.128539</td>\n",
              "      <td>-0.189115</td>\n",
              "      <td>0.133558</td>\n",
              "      <td>-0.021053</td>\n",
              "      <td>149.62</td>\n",
              "      <td>0</td>\n",
              "    </tr>\n",
              "    <tr>\n",
              "      <th>1</th>\n",
              "      <td>0.0</td>\n",
              "      <td>1.191857</td>\n",
              "      <td>0.266151</td>\n",
              "      <td>0.166480</td>\n",
              "      <td>0.448154</td>\n",
              "      <td>0.060018</td>\n",
              "      <td>-0.082361</td>\n",
              "      <td>-0.078803</td>\n",
              "      <td>0.085102</td>\n",
              "      <td>-0.255425</td>\n",
              "      <td>...</td>\n",
              "      <td>-0.225775</td>\n",
              "      <td>-0.638672</td>\n",
              "      <td>0.101288</td>\n",
              "      <td>-0.339846</td>\n",
              "      <td>0.167170</td>\n",
              "      <td>0.125895</td>\n",
              "      <td>-0.008983</td>\n",
              "      <td>0.014724</td>\n",
              "      <td>2.69</td>\n",
              "      <td>0</td>\n",
              "    </tr>\n",
              "    <tr>\n",
              "      <th>2</th>\n",
              "      <td>1.0</td>\n",
              "      <td>-1.358354</td>\n",
              "      <td>-1.340163</td>\n",
              "      <td>1.773209</td>\n",
              "      <td>0.379780</td>\n",
              "      <td>-0.503198</td>\n",
              "      <td>1.800499</td>\n",
              "      <td>0.791461</td>\n",
              "      <td>0.247676</td>\n",
              "      <td>-1.514654</td>\n",
              "      <td>...</td>\n",
              "      <td>0.247998</td>\n",
              "      <td>0.771679</td>\n",
              "      <td>0.909412</td>\n",
              "      <td>-0.689281</td>\n",
              "      <td>-0.327642</td>\n",
              "      <td>-0.139097</td>\n",
              "      <td>-0.055353</td>\n",
              "      <td>-0.059752</td>\n",
              "      <td>378.66</td>\n",
              "      <td>0</td>\n",
              "    </tr>\n",
              "    <tr>\n",
              "      <th>3</th>\n",
              "      <td>1.0</td>\n",
              "      <td>-0.966272</td>\n",
              "      <td>-0.185226</td>\n",
              "      <td>1.792993</td>\n",
              "      <td>-0.863291</td>\n",
              "      <td>-0.010309</td>\n",
              "      <td>1.247203</td>\n",
              "      <td>0.237609</td>\n",
              "      <td>0.377436</td>\n",
              "      <td>-1.387024</td>\n",
              "      <td>...</td>\n",
              "      <td>-0.108300</td>\n",
              "      <td>0.005274</td>\n",
              "      <td>-0.190321</td>\n",
              "      <td>-1.175575</td>\n",
              "      <td>0.647376</td>\n",
              "      <td>-0.221929</td>\n",
              "      <td>0.062723</td>\n",
              "      <td>0.061458</td>\n",
              "      <td>123.50</td>\n",
              "      <td>0</td>\n",
              "    </tr>\n",
              "    <tr>\n",
              "      <th>4</th>\n",
              "      <td>2.0</td>\n",
              "      <td>-1.158233</td>\n",
              "      <td>0.877737</td>\n",
              "      <td>1.548718</td>\n",
              "      <td>0.403034</td>\n",
              "      <td>-0.407193</td>\n",
              "      <td>0.095921</td>\n",
              "      <td>0.592941</td>\n",
              "      <td>-0.270533</td>\n",
              "      <td>0.817739</td>\n",
              "      <td>...</td>\n",
              "      <td>-0.009431</td>\n",
              "      <td>0.798278</td>\n",
              "      <td>-0.137458</td>\n",
              "      <td>0.141267</td>\n",
              "      <td>-0.206010</td>\n",
              "      <td>0.502292</td>\n",
              "      <td>0.219422</td>\n",
              "      <td>0.215153</td>\n",
              "      <td>69.99</td>\n",
              "      <td>0</td>\n",
              "    </tr>\n",
              "  </tbody>\n",
              "</table>\n",
              "<p>5 rows × 31 columns</p>\n",
              "</div>\n",
              "    <div class=\"colab-df-buttons\">\n",
              "\n",
              "  <div class=\"colab-df-container\">\n",
              "    <button class=\"colab-df-convert\" onclick=\"convertToInteractive('df-9d339cef-52a5-4b45-93ef-c5ab2a7f1ac3')\"\n",
              "            title=\"Convert this dataframe to an interactive table.\"\n",
              "            style=\"display:none;\">\n",
              "\n",
              "  <svg xmlns=\"http://www.w3.org/2000/svg\" height=\"24px\" viewBox=\"0 -960 960 960\">\n",
              "    <path d=\"M120-120v-720h720v720H120Zm60-500h600v-160H180v160Zm220 220h160v-160H400v160Zm0 220h160v-160H400v160ZM180-400h160v-160H180v160Zm440 0h160v-160H620v160ZM180-180h160v-160H180v160Zm440 0h160v-160H620v160Z\"/>\n",
              "  </svg>\n",
              "    </button>\n",
              "\n",
              "  <style>\n",
              "    .colab-df-container {\n",
              "      display:flex;\n",
              "      gap: 12px;\n",
              "    }\n",
              "\n",
              "    .colab-df-convert {\n",
              "      background-color: #E8F0FE;\n",
              "      border: none;\n",
              "      border-radius: 50%;\n",
              "      cursor: pointer;\n",
              "      display: none;\n",
              "      fill: #1967D2;\n",
              "      height: 32px;\n",
              "      padding: 0 0 0 0;\n",
              "      width: 32px;\n",
              "    }\n",
              "\n",
              "    .colab-df-convert:hover {\n",
              "      background-color: #E2EBFA;\n",
              "      box-shadow: 0px 1px 2px rgba(60, 64, 67, 0.3), 0px 1px 3px 1px rgba(60, 64, 67, 0.15);\n",
              "      fill: #174EA6;\n",
              "    }\n",
              "\n",
              "    .colab-df-buttons div {\n",
              "      margin-bottom: 4px;\n",
              "    }\n",
              "\n",
              "    [theme=dark] .colab-df-convert {\n",
              "      background-color: #3B4455;\n",
              "      fill: #D2E3FC;\n",
              "    }\n",
              "\n",
              "    [theme=dark] .colab-df-convert:hover {\n",
              "      background-color: #434B5C;\n",
              "      box-shadow: 0px 1px 3px 1px rgba(0, 0, 0, 0.15);\n",
              "      filter: drop-shadow(0px 1px 2px rgba(0, 0, 0, 0.3));\n",
              "      fill: #FFFFFF;\n",
              "    }\n",
              "  </style>\n",
              "\n",
              "    <script>\n",
              "      const buttonEl =\n",
              "        document.querySelector('#df-9d339cef-52a5-4b45-93ef-c5ab2a7f1ac3 button.colab-df-convert');\n",
              "      buttonEl.style.display =\n",
              "        google.colab.kernel.accessAllowed ? 'block' : 'none';\n",
              "\n",
              "      async function convertToInteractive(key) {\n",
              "        const element = document.querySelector('#df-9d339cef-52a5-4b45-93ef-c5ab2a7f1ac3');\n",
              "        const dataTable =\n",
              "          await google.colab.kernel.invokeFunction('convertToInteractive',\n",
              "                                                    [key], {});\n",
              "        if (!dataTable) return;\n",
              "\n",
              "        const docLinkHtml = 'Like what you see? Visit the ' +\n",
              "          '<a target=\"_blank\" href=https://colab.research.google.com/notebooks/data_table.ipynb>data table notebook</a>'\n",
              "          + ' to learn more about interactive tables.';\n",
              "        element.innerHTML = '';\n",
              "        dataTable['output_type'] = 'display_data';\n",
              "        await google.colab.output.renderOutput(dataTable, element);\n",
              "        const docLink = document.createElement('div');\n",
              "        docLink.innerHTML = docLinkHtml;\n",
              "        element.appendChild(docLink);\n",
              "      }\n",
              "    </script>\n",
              "  </div>\n",
              "\n",
              "\n",
              "<div id=\"df-226246fb-7699-4f91-8cbb-a8861878f5e9\">\n",
              "  <button class=\"colab-df-quickchart\" onclick=\"quickchart('df-226246fb-7699-4f91-8cbb-a8861878f5e9')\"\n",
              "            title=\"Suggest charts.\"\n",
              "            style=\"display:none;\">\n",
              "\n",
              "<svg xmlns=\"http://www.w3.org/2000/svg\" height=\"24px\"viewBox=\"0 0 24 24\"\n",
              "     width=\"24px\">\n",
              "    <g>\n",
              "        <path d=\"M19 3H5c-1.1 0-2 .9-2 2v14c0 1.1.9 2 2 2h14c1.1 0 2-.9 2-2V5c0-1.1-.9-2-2-2zM9 17H7v-7h2v7zm4 0h-2V7h2v10zm4 0h-2v-4h2v4z\"/>\n",
              "    </g>\n",
              "</svg>\n",
              "  </button>\n",
              "\n",
              "<style>\n",
              "  .colab-df-quickchart {\n",
              "      --bg-color: #E8F0FE;\n",
              "      --fill-color: #1967D2;\n",
              "      --hover-bg-color: #E2EBFA;\n",
              "      --hover-fill-color: #174EA6;\n",
              "      --disabled-fill-color: #AAA;\n",
              "      --disabled-bg-color: #DDD;\n",
              "  }\n",
              "\n",
              "  [theme=dark] .colab-df-quickchart {\n",
              "      --bg-color: #3B4455;\n",
              "      --fill-color: #D2E3FC;\n",
              "      --hover-bg-color: #434B5C;\n",
              "      --hover-fill-color: #FFFFFF;\n",
              "      --disabled-bg-color: #3B4455;\n",
              "      --disabled-fill-color: #666;\n",
              "  }\n",
              "\n",
              "  .colab-df-quickchart {\n",
              "    background-color: var(--bg-color);\n",
              "    border: none;\n",
              "    border-radius: 50%;\n",
              "    cursor: pointer;\n",
              "    display: none;\n",
              "    fill: var(--fill-color);\n",
              "    height: 32px;\n",
              "    padding: 0;\n",
              "    width: 32px;\n",
              "  }\n",
              "\n",
              "  .colab-df-quickchart:hover {\n",
              "    background-color: var(--hover-bg-color);\n",
              "    box-shadow: 0 1px 2px rgba(60, 64, 67, 0.3), 0 1px 3px 1px rgba(60, 64, 67, 0.15);\n",
              "    fill: var(--button-hover-fill-color);\n",
              "  }\n",
              "\n",
              "  .colab-df-quickchart-complete:disabled,\n",
              "  .colab-df-quickchart-complete:disabled:hover {\n",
              "    background-color: var(--disabled-bg-color);\n",
              "    fill: var(--disabled-fill-color);\n",
              "    box-shadow: none;\n",
              "  }\n",
              "\n",
              "  .colab-df-spinner {\n",
              "    border: 2px solid var(--fill-color);\n",
              "    border-color: transparent;\n",
              "    border-bottom-color: var(--fill-color);\n",
              "    animation:\n",
              "      spin 1s steps(1) infinite;\n",
              "  }\n",
              "\n",
              "  @keyframes spin {\n",
              "    0% {\n",
              "      border-color: transparent;\n",
              "      border-bottom-color: var(--fill-color);\n",
              "      border-left-color: var(--fill-color);\n",
              "    }\n",
              "    20% {\n",
              "      border-color: transparent;\n",
              "      border-left-color: var(--fill-color);\n",
              "      border-top-color: var(--fill-color);\n",
              "    }\n",
              "    30% {\n",
              "      border-color: transparent;\n",
              "      border-left-color: var(--fill-color);\n",
              "      border-top-color: var(--fill-color);\n",
              "      border-right-color: var(--fill-color);\n",
              "    }\n",
              "    40% {\n",
              "      border-color: transparent;\n",
              "      border-right-color: var(--fill-color);\n",
              "      border-top-color: var(--fill-color);\n",
              "    }\n",
              "    60% {\n",
              "      border-color: transparent;\n",
              "      border-right-color: var(--fill-color);\n",
              "    }\n",
              "    80% {\n",
              "      border-color: transparent;\n",
              "      border-right-color: var(--fill-color);\n",
              "      border-bottom-color: var(--fill-color);\n",
              "    }\n",
              "    90% {\n",
              "      border-color: transparent;\n",
              "      border-bottom-color: var(--fill-color);\n",
              "    }\n",
              "  }\n",
              "</style>\n",
              "\n",
              "  <script>\n",
              "    async function quickchart(key) {\n",
              "      const quickchartButtonEl =\n",
              "        document.querySelector('#' + key + ' button');\n",
              "      quickchartButtonEl.disabled = true;  // To prevent multiple clicks.\n",
              "      quickchartButtonEl.classList.add('colab-df-spinner');\n",
              "      try {\n",
              "        const charts = await google.colab.kernel.invokeFunction(\n",
              "            'suggestCharts', [key], {});\n",
              "      } catch (error) {\n",
              "        console.error('Error during call to suggestCharts:', error);\n",
              "      }\n",
              "      quickchartButtonEl.classList.remove('colab-df-spinner');\n",
              "      quickchartButtonEl.classList.add('colab-df-quickchart-complete');\n",
              "    }\n",
              "    (() => {\n",
              "      let quickchartButtonEl =\n",
              "        document.querySelector('#df-226246fb-7699-4f91-8cbb-a8861878f5e9 button');\n",
              "      quickchartButtonEl.style.display =\n",
              "        google.colab.kernel.accessAllowed ? 'block' : 'none';\n",
              "    })();\n",
              "  </script>\n",
              "</div>\n",
              "    </div>\n",
              "  </div>\n"
            ]
          },
          "metadata": {},
          "execution_count": 4
        }
      ]
    },
    {
      "cell_type": "code",
      "source": [
        "df.shape"
      ],
      "metadata": {
        "colab": {
          "base_uri": "https://localhost:8080/"
        },
        "id": "6_68jjwjUp5l",
        "outputId": "1475779f-6ec2-467b-f458-bc2bbcfeb63b"
      },
      "execution_count": 5,
      "outputs": [
        {
          "output_type": "execute_result",
          "data": {
            "text/plain": [
              "(284807, 31)"
            ]
          },
          "metadata": {},
          "execution_count": 5
        }
      ]
    },
    {
      "cell_type": "code",
      "source": [
        "df['Class'].nunique()"
      ],
      "metadata": {
        "colab": {
          "base_uri": "https://localhost:8080/"
        },
        "id": "i-xPZpUyUuWi",
        "outputId": "9274b607-9db2-48f7-cb4c-d4b7854036b6"
      },
      "execution_count": 6,
      "outputs": [
        {
          "output_type": "execute_result",
          "data": {
            "text/plain": [
              "2"
            ]
          },
          "metadata": {},
          "execution_count": 6
        }
      ]
    },
    {
      "cell_type": "code",
      "source": [
        "train = df.drop('Class', axis=1)\n",
        "test = df['Class']"
      ],
      "metadata": {
        "id": "azqg_JtcVcAh"
      },
      "execution_count": 7,
      "outputs": []
    },
    {
      "cell_type": "code",
      "source": [
        "X_train, X_test, y_train, y_test = train_test_split(train, test, test_size=0.3)"
      ],
      "metadata": {
        "id": "S1GwYFKtVoe8"
      },
      "execution_count": 8,
      "outputs": []
    },
    {
      "cell_type": "code",
      "source": [
        "X_train.shape, y_train.shape, X_test.shape, y_test.shape"
      ],
      "metadata": {
        "colab": {
          "base_uri": "https://localhost:8080/"
        },
        "id": "hXFdg1NGYU0i",
        "outputId": "ce0a8901-d24e-41a0-c499-c7e93586ac35"
      },
      "execution_count": 9,
      "outputs": [
        {
          "output_type": "execute_result",
          "data": {
            "text/plain": [
              "((199364, 30), (199364,), (85443, 30), (85443,))"
            ]
          },
          "metadata": {},
          "execution_count": 9
        }
      ]
    },
    {
      "cell_type": "code",
      "source": [
        "sns.heatmap(df.corr())"
      ],
      "metadata": {
        "colab": {
          "base_uri": "https://localhost:8080/",
          "height": 475
        },
        "id": "bLz9jO9chxZq",
        "outputId": "069c8b6f-a898-4497-cb57-94bd1538bf5d"
      },
      "execution_count": 20,
      "outputs": [
        {
          "output_type": "execute_result",
          "data": {
            "text/plain": [
              "<Axes: >"
            ]
          },
          "metadata": {},
          "execution_count": 20
        },
        {
          "output_type": "display_data",
          "data": {
            "text/plain": [
              "<Figure size 640x480 with 2 Axes>"
            ],
            "image/png": "[encoded data removed]"
          },
          "metadata": {}
        }
      ]
    },
    {
      "cell_type": "code",
      "source": [
        "plt.scatter(x=df['Amount'], y=df['V7'])"
      ],
      "metadata": {
        "colab": {
          "base_uri": "https://localhost:8080/",
          "height": 447
        },
        "id": "qh3g-0c4iLtC",
        "outputId": "f84994a8-6bac-4e71-fc20-cf524b15a816"
      },
      "execution_count": 24,
      "outputs": [
        {
          "output_type": "execute_result",
          "data": {
            "text/plain": [
              "<matplotlib.collections.PathCollection at 0x795a1fd0a6e0>"
            ]
          },
          "metadata": {},
          "execution_count": 24
        },
        {
          "output_type": "display_data",
          "data": {
            "text/plain": [
              "<Figure size 640x480 with 1 Axes>"
            ],
            "image/png": "[encoded data removed]"
          },
          "metadata": {}
        }
      ]
    },
    {
      "cell_type": "markdown",
      "source": [
        "# **KNN**"
      ],
      "metadata": {
        "id": "cTp6KEh-Yv4E"
      }
    },
    {
      "cell_type": "code",
      "source": [
        "KNeighborsClassifier?"
      ],
      "metadata": {
        "id": "VtKajcD2ZGqm"
      },
      "execution_count": 10,
      "outputs": []
    },
    {
      "cell_type": "code",
      "source": [
        "# n_neighbors : int, default=5\n",
        "#     Number of neighbors to use by default for :meth:`kneighbors` queries.\n",
        "\n",
        "# weights : {'uniform', 'distance'}, callable or None, default='uniform'"
      ],
      "metadata": {
        "id": "Cvikla_Bfw2b"
      },
      "execution_count": 11,
      "outputs": []
    },
    {
      "cell_type": "code",
      "source": [
        "knn_clf = KNeighborsClassifier()\n",
        "\n",
        "params = {\n",
        "    'n_neighbors': range(1, 50, 5),\n",
        "    'weights': ['uniform', 'distance']\n",
        "}\n",
        "\n",
        "knn_grid = GridSearchCV(knn_clf, params, cv=3)\n",
        "knn_grid.fit(X_train.head(10_000), y_train.head(10_000))"
      ],
      "metadata": {
        "colab": {
          "base_uri": "https://localhost:8080/",
          "height": 118
        },
        "id": "lFihbrIhYhJE",
        "outputId": "bb79eaa4-1e7e-46a2-c895-a17d96910363"
      },
      "execution_count": 12,
      "outputs": [
        {
          "output_type": "execute_result",
          "data": {
            "text/plain": [
              "GridSearchCV(cv=3, estimator=KNeighborsClassifier(),\n",
              "             param_grid={'n_neighbors': range(1, 50, 5),\n",
              "                         'weights': ['uniform', 'distance']})"
            ],
            "text/html": [
              "<style>#sk-container-id-1 {color: black;background-color: white;}#sk-container-id-1 pre{padding: 0;}#sk-container-id-1 div.sk-toggleable {background-color: white;}#sk-container-id-1 label.sk-toggleable__label {cursor: pointer;display: block;width: 100%;margin-bottom: 0;padding: 0.3em;box-sizing: border-box;text-align: center;}#sk-container-id-1 label.sk-toggleable__label-arrow:before {content: \"▸\";float: left;margin-right: 0.25em;color: #696969;}#sk-container-id-1 label.sk-toggleable__label-arrow:hover:before {color: black;}#sk-container-id-1 div.sk-estimator:hover label.sk-toggleable__label-arrow:before {color: black;}#sk-container-id-1 div.sk-toggleable__content {max-height: 0;max-width: 0;overflow: hidden;text-align: left;background-color: #f0f8ff;}#sk-container-id-1 div.sk-toggleable__content pre {margin: 0.2em;color: black;border-radius: 0.25em;background-color: #f0f8ff;}#sk-container-id-1 input.sk-toggleable__control:checked~div.sk-toggleable__content {max-height: 200px;max-width: 100%;overflow: auto;}#sk-container-id-1 input.sk-toggleable__control:checked~label.sk-toggleable__label-arrow:before {content: \"▾\";}#sk-container-id-1 div.sk-estimator input.sk-toggleable__control:checked~label.sk-toggleable__label {background-color: #d4ebff;}#sk-container-id-1 div.sk-label input.sk-toggleable__control:checked~label.sk-toggleable__label {background-color: #d4ebff;}#sk-container-id-1 input.sk-hidden--visually {border: 0;clip: rect(1px 1px 1px 1px);clip: rect(1px, 1px, 1px, 1px);height: 1px;margin: -1px;overflow: hidden;padding: 0;position: absolute;width: 1px;}#sk-container-id-1 div.sk-estimator {font-family: monospace;background-color: #f0f8ff;border: 1px dotted black;border-radius: 0.25em;box-sizing: border-box;margin-bottom: 0.5em;}#sk-container-id-1 div.sk-estimator:hover {background-color: #d4ebff;}#sk-container-id-1 div.sk-parallel-item::after {content: \"\";width: 100%;border-bottom: 1px solid gray;flex-grow: 1;}#sk-container-id-1 div.sk-label:hover label.sk-toggleable__label {background-color: #d4ebff;}#sk-container-id-1 div.sk-serial::before {content: \"\";position: absolute;border-left: 1px solid gray;box-sizing: border-box;top: 0;bottom: 0;left: 50%;z-index: 0;}#sk-container-id-1 div.sk-serial {display: flex;flex-direction: column;align-items: center;background-color: white;padding-right: 0.2em;padding-left: 0.2em;position: relative;}#sk-container-id-1 div.sk-item {position: relative;z-index: 1;}#sk-container-id-1 div.sk-parallel {display: flex;align-items: stretch;justify-content: center;background-color: white;position: relative;}#sk-container-id-1 div.sk-item::before, #sk-container-id-1 div.sk-parallel-item::before {content: \"\";position: absolute;border-left: 1px solid gray;box-sizing: border-box;top: 0;bottom: 0;left: 50%;z-index: -1;}#sk-container-id-1 div.sk-parallel-item {display: flex;flex-direction: column;z-index: 1;position: relative;background-color: white;}#sk-container-id-1 div.sk-parallel-item:first-child::after {align-self: flex-end;width: 50%;}#sk-container-id-1 div.sk-parallel-item:last-child::after {align-self: flex-start;width: 50%;}#sk-container-id-1 div.sk-parallel-item:only-child::after {width: 0;}#sk-container-id-1 div.sk-dashed-wrapped {border: 1px dashed gray;margin: 0 0.4em 0.5em 0.4em;box-sizing: border-box;padding-bottom: 0.4em;background-color: white;}#sk-container-id-1 div.sk-label label {font-family: monospace;font-weight: bold;display: inline-block;line-height: 1.2em;}#sk-container-id-1 div.sk-label-container {text-align: center;}#sk-container-id-1 div.sk-container {/* jupyter's `normalize.less` sets `[hidden] { display: none; }` but bootstrap.min.css set `[hidden] { display: none !important; }` so we also need the `!important` here to be able to override the default hidden behavior on the sphinx rendered scikit-learn.org. See: https://github.com/scikit-learn/scikit-learn/issues/21755 */display: inline-block !important;position: relative;}#sk-container-id-1 div.sk-text-repr-fallback {display: none;}</style><div id=\"sk-container-id-1\" class=\"sk-top-container\"><div class=\"sk-text-repr-fallback\"><pre>GridSearchCV(cv=3, estimator=KNeighborsClassifier(),\n",
              "             param_grid={&#x27;n_neighbors&#x27;: range(1, 50, 5),\n",
              "                         &#x27;weights&#x27;: [&#x27;uniform&#x27;, &#x27;distance&#x27;]})</pre><b>In a Jupyter environment, please rerun this cell to show the HTML representation or trust the notebook. <br />On GitHub, the HTML representation is unable to render, please try loading this page with nbviewer.org.</b></div><div class=\"sk-container\" hidden><div class=\"sk-item sk-dashed-wrapped\"><div class=\"sk-label-container\"><div class=\"sk-label sk-toggleable\"><input class=\"sk-toggleable__control sk-hidden--visually\" id=\"sk-estimator-id-1\" type=\"checkbox\" ><label for=\"sk-estimator-id-1\" class=\"sk-toggleable__label sk-toggleable__label-arrow\">GridSearchCV</label><div class=\"sk-toggleable__content\"><pre>GridSearchCV(cv=3, estimator=KNeighborsClassifier(),\n",
              "             param_grid={&#x27;n_neighbors&#x27;: range(1, 50, 5),\n",
              "                         &#x27;weights&#x27;: [&#x27;uniform&#x27;, &#x27;distance&#x27;]})</pre></div></div></div><div class=\"sk-parallel\"><div class=\"sk-parallel-item\"><div class=\"sk-item\"><div class=\"sk-label-container\"><div class=\"sk-label sk-toggleable\"><input class=\"sk-toggleable__control sk-hidden--visually\" id=\"sk-estimator-id-2\" type=\"checkbox\" ><label for=\"sk-estimator-id-2\" class=\"sk-toggleable__label sk-toggleable__label-arrow\">estimator: KNeighborsClassifier</label><div class=\"sk-toggleable__content\"><pre>KNeighborsClassifier()</pre></div></div></div><div class=\"sk-serial\"><div class=\"sk-item\"><div class=\"sk-estimator sk-toggleable\"><input class=\"sk-toggleable__control sk-hidden--visually\" id=\"sk-estimator-id-3\" type=\"checkbox\" ><label for=\"sk-estimator-id-3\" class=\"sk-toggleable__label sk-toggleable__label-arrow\">KNeighborsClassifier</label><div class=\"sk-toggleable__content\"><pre>KNeighborsClassifier()</pre></div></div></div></div></div></div></div></div></div></div>"
            ]
          },
          "metadata": {},
          "execution_count": 12
        }
      ]
    },
    {
      "cell_type": "code",
      "source": [
        "knn_grid.best_params_"
      ],
      "metadata": {
        "colab": {
          "base_uri": "https://localhost:8080/"
        },
        "id": "0xabvXg1gvoY",
        "outputId": "eadc1de3-54c6-4ff7-d49b-c1065ba37729"
      },
      "execution_count": 13,
      "outputs": [
        {
          "output_type": "execute_result",
          "data": {
            "text/plain": [
              "{'n_neighbors': 6, 'weights': 'uniform'}"
            ]
          },
          "metadata": {},
          "execution_count": 13
        }
      ]
    },
    {
      "cell_type": "code",
      "source": [
        "knn_grid.best_score_"
      ],
      "metadata": {
        "colab": {
          "base_uri": "https://localhost:8080/"
        },
        "id": "tMRcAoXxgzcX",
        "outputId": "6b2620f8-2b1e-4721-c261-3a4d22320dfb"
      },
      "execution_count": 14,
      "outputs": [
        {
          "output_type": "execute_result",
          "data": {
            "text/plain": [
              "0.9987999999760024"
            ]
          },
          "metadata": {},
          "execution_count": 14
        }
      ]
    },
    {
      "cell_type": "code",
      "source": [
        "best_clf = knn_grid.best_estimator_"
      ],
      "metadata": {
        "id": "24yIbBT1jJhg"
      },
      "execution_count": 25,
      "outputs": []
    },
    {
      "cell_type": "code",
      "source": [
        "best_clf.predict?"
      ],
      "metadata": {
        "id": "pS7Ko-A-jUOB"
      },
      "execution_count": 28,
      "outputs": []
    },
    {
      "cell_type": "code",
      "source": [
        "best_clf.fit(X_train, y_train)"
      ],
      "metadata": {
        "colab": {
          "base_uri": "https://localhost:8080/",
          "height": 75
        },
        "id": "WfOcgMSwg2XS",
        "outputId": "f5e2ca0e-201f-4ff7-ef46-9a9c3b374727"
      },
      "execution_count": 30,
      "outputs": [
        {
          "output_type": "execute_result",
          "data": {
            "text/plain": [
              "KNeighborsClassifier(n_neighbors=6)"
            ],
            "text/html": [
              "<style>#sk-container-id-3 {color: black;background-color: white;}#sk-container-id-3 pre{padding: 0;}#sk-container-id-3 div.sk-toggleable {background-color: white;}#sk-container-id-3 label.sk-toggleable__label {cursor: pointer;display: block;width: 100%;margin-bottom: 0;padding: 0.3em;box-sizing: border-box;text-align: center;}#sk-container-id-3 label.sk-toggleable__label-arrow:before {content: \"▸\";float: left;margin-right: 0.25em;color: #696969;}#sk-container-id-3 label.sk-toggleable__label-arrow:hover:before {color: black;}#sk-container-id-3 div.sk-estimator:hover label.sk-toggleable__label-arrow:before {color: black;}#sk-container-id-3 div.sk-toggleable__content {max-height: 0;max-width: 0;overflow: hidden;text-align: left;background-color: #f0f8ff;}#sk-container-id-3 div.sk-toggleable__content pre {margin: 0.2em;color: black;border-radius: 0.25em;background-color: #f0f8ff;}#sk-container-id-3 input.sk-toggleable__control:checked~div.sk-toggleable__content {max-height: 200px;max-width: 100%;overflow: auto;}#sk-container-id-3 input.sk-toggleable__control:checked~label.sk-toggleable__label-arrow:before {content: \"▾\";}#sk-container-id-3 div.sk-estimator input.sk-toggleable__control:checked~label.sk-toggleable__label {background-color: #d4ebff;}#sk-container-id-3 div.sk-label input.sk-toggleable__control:checked~label.sk-toggleable__label {background-color: #d4ebff;}#sk-container-id-3 input.sk-hidden--visually {border: 0;clip: rect(1px 1px 1px 1px);clip: rect(1px, 1px, 1px, 1px);height: 1px;margin: -1px;overflow: hidden;padding: 0;position: absolute;width: 1px;}#sk-container-id-3 div.sk-estimator {font-family: monospace;background-color: #f0f8ff;border: 1px dotted black;border-radius: 0.25em;box-sizing: border-box;margin-bottom: 0.5em;}#sk-container-id-3 div.sk-estimator:hover {background-color: #d4ebff;}#sk-container-id-3 div.sk-parallel-item::after {content: \"\";width: 100%;border-bottom: 1px solid gray;flex-grow: 1;}#sk-container-id-3 div.sk-label:hover label.sk-toggleable__label {background-color: #d4ebff;}#sk-container-id-3 div.sk-serial::before {content: \"\";position: absolute;border-left: 1px solid gray;box-sizing: border-box;top: 0;bottom: 0;left: 50%;z-index: 0;}#sk-container-id-3 div.sk-serial {display: flex;flex-direction: column;align-items: center;background-color: white;padding-right: 0.2em;padding-left: 0.2em;position: relative;}#sk-container-id-3 div.sk-item {position: relative;z-index: 1;}#sk-container-id-3 div.sk-parallel {display: flex;align-items: stretch;justify-content: center;background-color: white;position: relative;}#sk-container-id-3 div.sk-item::before, #sk-container-id-3 div.sk-parallel-item::before {content: \"\";position: absolute;border-left: 1px solid gray;box-sizing: border-box;top: 0;bottom: 0;left: 50%;z-index: -1;}#sk-container-id-3 div.sk-parallel-item {display: flex;flex-direction: column;z-index: 1;position: relative;background-color: white;}#sk-container-id-3 div.sk-parallel-item:first-child::after {align-self: flex-end;width: 50%;}#sk-container-id-3 div.sk-parallel-item:last-child::after {align-self: flex-start;width: 50%;}#sk-container-id-3 div.sk-parallel-item:only-child::after {width: 0;}#sk-container-id-3 div.sk-dashed-wrapped {border: 1px dashed gray;margin: 0 0.4em 0.5em 0.4em;box-sizing: border-box;padding-bottom: 0.4em;background-color: white;}#sk-container-id-3 div.sk-label label {font-family: monospace;font-weight: bold;display: inline-block;line-height: 1.2em;}#sk-container-id-3 div.sk-label-container {text-align: center;}#sk-container-id-3 div.sk-container {/* jupyter's `normalize.less` sets `[hidden] { display: none; }` but bootstrap.min.css set `[hidden] { display: none !important; }` so we also need the `!important` here to be able to override the default hidden behavior on the sphinx rendered scikit-learn.org. See: https://github.com/scikit-learn/scikit-learn/issues/21755 */display: inline-block !important;position: relative;}#sk-container-id-3 div.sk-text-repr-fallback {display: none;}</style><div id=\"sk-container-id-3\" class=\"sk-top-container\"><div class=\"sk-text-repr-fallback\"><pre>KNeighborsClassifier(n_neighbors=6)</pre><b>In a Jupyter environment, please rerun this cell to show the HTML representation or trust the notebook. <br />On GitHub, the HTML representation is unable to render, please try loading this page with nbviewer.org.</b></div><div class=\"sk-container\" hidden><div class=\"sk-item\"><div class=\"sk-estimator sk-toggleable\"><input class=\"sk-toggleable__control sk-hidden--visually\" id=\"sk-estimator-id-5\" type=\"checkbox\" checked><label for=\"sk-estimator-id-5\" class=\"sk-toggleable__label sk-toggleable__label-arrow\">KNeighborsClassifier</label><div class=\"sk-toggleable__content\"><pre>KNeighborsClassifier(n_neighbors=6)</pre></div></div></div></div></div>"
            ]
          },
          "metadata": {},
          "execution_count": 30
        }
      ]
    },
    {
      "cell_type": "code",
      "source": [
        "from sklearn.metrics import accuracy_score"
      ],
      "metadata": {
        "id": "L9g8dSGsjwO9"
      },
      "execution_count": 31,
      "outputs": []
    },
    {
      "cell_type": "code",
      "source": [
        "y_pred = best_clf.predict(X_test)\n",
        "accuracy_score(y_test, y_pred)"
      ],
      "metadata": {
        "colab": {
          "base_uri": "https://localhost:8080/"
        },
        "id": "K6B1UY6Vjrmb",
        "outputId": "5d995e3a-4c7e-4f86-a5b8-7b985831b057"
      },
      "execution_count": 32,
      "outputs": [
        {
          "output_type": "execute_result",
          "data": {
            "text/plain": [
              "0.9985136289690203"
            ]
          },
          "metadata": {},
          "execution_count": 32
        }
      ]
    },
    {
      "cell_type": "code",
      "source": [
        "# IDK, mayb this code is f🤗cked up, but I'm tired to fix it... I'm lazy and I'm working 12h a day because of school👍"
      ],
      "metadata": {
        "id": "8-0SKtm6kjhV"
      },
      "execution_count": 33,
      "outputs": []
    },
    {
      "cell_type": "markdown",
      "source": [
        "![Manface.png](data:image/png;base64,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)"
      ],
      "metadata": {
        "id": "-wQgSxTmlALN"
      }
    }
  ]
}