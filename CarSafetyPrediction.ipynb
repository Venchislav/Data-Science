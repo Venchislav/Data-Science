{
  "nbformat": 4,
  "nbformat_minor": 0,
  "metadata": {
    "colab": {
      "provenance": [],
      "authorship_tag": "ABX9TyPsO2fqRk37jzd6dArol9Zz",
      "include_colab_link": true
    },
    "kernelspec": {
      "name": "python3",
      "display_name": "Python 3"
    },
    "language_info": {
      "name": "python"
    }
  },
  "cells": [
    {
      "cell_type": "markdown",
      "metadata": {
        "id": "view-in-github",
        "colab_type": "text"
      },
      "source": [
        "<a href=\"https://colab.research.google.com/github/Venchislav/Data-Science/blob/main/CarSafetyPrediction.ipynb\" target=\"_parent\"><img src=\"https://colab.research.google.com/assets/colab-badge.svg\" alt=\"Open In Colab\"/></a>"
      ]
    },
    {
      "cell_type": "code",
      "execution_count": 165,
      "metadata": {
        "id": "hmfvxIMmuRY4"
      },
      "outputs": [],
      "source": [
        "import pandas as pd\n",
        "import numpy as np\n",
        "from sklearn.model_selection import GridSearchCV\n",
        "from sklearn.model_selection import train_test_split\n",
        "from sklearn.tree import DecisionTreeClassifier"
      ]
    },
    {
      "cell_type": "code",
      "source": [
        "df = pd.read_csv('/content/sample_data/car.data')\n",
        "df.head()"
      ],
      "metadata": {
        "colab": {
          "base_uri": "https://localhost:8080/",
          "height": 206
        },
        "id": "LWyfjIUnupzr",
        "outputId": "53ffbc4c-fe78-4671-ccd6-1e24f78e47d2"
      },
      "execution_count": 166,
      "outputs": [
        {
          "output_type": "execute_result",
          "data": {
            "text/plain": [
              "   vhigh vhigh.1  2 2.1  small   low  unacc\n",
              "0  vhigh   vhigh  2   2  small   med  unacc\n",
              "1  vhigh   vhigh  2   2  small  high  unacc\n",
              "2  vhigh   vhigh  2   2    med   low  unacc\n",
              "3  vhigh   vhigh  2   2    med   med  unacc\n",
              "4  vhigh   vhigh  2   2    med  high  unacc"
            ],
            "text/html": [
              "\n",
              "  <div id=\"df-8023162a-7ce4-412f-8d78-a770d5b8b446\" class=\"colab-df-container\">\n",
              "    <div>\n",
              "<style scoped>\n",
              "    .dataframe tbody tr th:only-of-type {\n",
              "        vertical-align: middle;\n",
              "    }\n",
              "\n",
              "    .dataframe tbody tr th {\n",
              "        vertical-align: top;\n",
              "    }\n",
              "\n",
              "    .dataframe thead th {\n",
              "        text-align: right;\n",
              "    }\n",
              "</style>\n",
              "<table border=\"1\" class=\"dataframe\">\n",
              "  <thead>\n",
              "    <tr style=\"text-align: right;\">\n",
              "      <th></th>\n",
              "      <th>vhigh</th>\n",
              "      <th>vhigh.1</th>\n",
              "      <th>2</th>\n",
              "      <th>2.1</th>\n",
              "      <th>small</th>\n",
              "      <th>low</th>\n",
              "      <th>unacc</th>\n",
              "    </tr>\n",
              "  </thead>\n",
              "  <tbody>\n",
              "    <tr>\n",
              "      <th>0</th>\n",
              "      <td>vhigh</td>\n",
              "      <td>vhigh</td>\n",
              "      <td>2</td>\n",
              "      <td>2</td>\n",
              "      <td>small</td>\n",
              "      <td>med</td>\n",
              "      <td>unacc</td>\n",
              "    </tr>\n",
              "    <tr>\n",
              "      <th>1</th>\n",
              "      <td>vhigh</td>\n",
              "      <td>vhigh</td>\n",
              "      <td>2</td>\n",
              "      <td>2</td>\n",
              "      <td>small</td>\n",
              "      <td>high</td>\n",
              "      <td>unacc</td>\n",
              "    </tr>\n",
              "    <tr>\n",
              "      <th>2</th>\n",
              "      <td>vhigh</td>\n",
              "      <td>vhigh</td>\n",
              "      <td>2</td>\n",
              "      <td>2</td>\n",
              "      <td>med</td>\n",
              "      <td>low</td>\n",
              "      <td>unacc</td>\n",
              "    </tr>\n",
              "    <tr>\n",
              "      <th>3</th>\n",
              "      <td>vhigh</td>\n",
              "      <td>vhigh</td>\n",
              "      <td>2</td>\n",
              "      <td>2</td>\n",
              "      <td>med</td>\n",
              "      <td>med</td>\n",
              "      <td>unacc</td>\n",
              "    </tr>\n",
              "    <tr>\n",
              "      <th>4</th>\n",
              "      <td>vhigh</td>\n",
              "      <td>vhigh</td>\n",
              "      <td>2</td>\n",
              "      <td>2</td>\n",
              "      <td>med</td>\n",
              "      <td>high</td>\n",
              "      <td>unacc</td>\n",
              "    </tr>\n",
              "  </tbody>\n",
              "</table>\n",
              "</div>\n",
              "    <div class=\"colab-df-buttons\">\n",
              "\n",
              "  <div class=\"colab-df-container\">\n",
              "    <button class=\"colab-df-convert\" onclick=\"convertToInteractive('df-8023162a-7ce4-412f-8d78-a770d5b8b446')\"\n",
              "            title=\"Convert this dataframe to an interactive table.\"\n",
              "            style=\"display:none;\">\n",
              "\n",
              "  <svg xmlns=\"http://www.w3.org/2000/svg\" height=\"24px\" viewBox=\"0 -960 960 960\">\n",
              "    <path d=\"M120-120v-720h720v720H120Zm60-500h600v-160H180v160Zm220 220h160v-160H400v160Zm0 220h160v-160H400v160ZM180-400h160v-160H180v160Zm440 0h160v-160H620v160ZM180-180h160v-160H180v160Zm440 0h160v-160H620v160Z\"/>\n",
              "  </svg>\n",
              "    </button>\n",
              "\n",
              "  <style>\n",
              "    .colab-df-container {\n",
              "      display:flex;\n",
              "      gap: 12px;\n",
              "    }\n",
              "\n",
              "    .colab-df-convert {\n",
              "      background-color: #E8F0FE;\n",
              "      border: none;\n",
              "      border-radius: 50%;\n",
              "      cursor: pointer;\n",
              "      display: none;\n",
              "      fill: #1967D2;\n",
              "      height: 32px;\n",
              "      padding: 0 0 0 0;\n",
              "      width: 32px;\n",
              "    }\n",
              "\n",
              "    .colab-df-convert:hover {\n",
              "      background-color: #E2EBFA;\n",
              "      box-shadow: 0px 1px 2px rgba(60, 64, 67, 0.3), 0px 1px 3px 1px rgba(60, 64, 67, 0.15);\n",
              "      fill: #174EA6;\n",
              "    }\n",
              "\n",
              "    .colab-df-buttons div {\n",
              "      margin-bottom: 4px;\n",
              "    }\n",
              "\n",
              "    [theme=dark] .colab-df-convert {\n",
              "      background-color: #3B4455;\n",
              "      fill: #D2E3FC;\n",
              "    }\n",
              "\n",
              "    [theme=dark] .colab-df-convert:hover {\n",
              "      background-color: #434B5C;\n",
              "      box-shadow: 0px 1px 3px 1px rgba(0, 0, 0, 0.15);\n",
              "      filter: drop-shadow(0px 1px 2px rgba(0, 0, 0, 0.3));\n",
              "      fill: #FFFFFF;\n",
              "    }\n",
              "  </style>\n",
              "\n",
              "    <script>\n",
              "      const buttonEl =\n",
              "        document.querySelector('#df-8023162a-7ce4-412f-8d78-a770d5b8b446 button.colab-df-convert');\n",
              "      buttonEl.style.display =\n",
              "        google.colab.kernel.accessAllowed ? 'block' : 'none';\n",
              "\n",
              "      async function convertToInteractive(key) {\n",
              "        const element = document.querySelector('#df-8023162a-7ce4-412f-8d78-a770d5b8b446');\n",
              "        const dataTable =\n",
              "          await google.colab.kernel.invokeFunction('convertToInteractive',\n",
              "                                                    [key], {});\n",
              "        if (!dataTable) return;\n",
              "\n",
              "        const docLinkHtml = 'Like what you see? Visit the ' +\n",
              "          '<a target=\"_blank\" href=https://colab.research.google.com/notebooks/data_table.ipynb>data table notebook</a>'\n",
              "          + ' to learn more about interactive tables.';\n",
              "        element.innerHTML = '';\n",
              "        dataTable['output_type'] = 'display_data';\n",
              "        await google.colab.output.renderOutput(dataTable, element);\n",
              "        const docLink = document.createElement('div');\n",
              "        docLink.innerHTML = docLinkHtml;\n",
              "        element.appendChild(docLink);\n",
              "      }\n",
              "    </script>\n",
              "  </div>\n",
              "\n",
              "\n",
              "<div id=\"df-64771378-6277-4c71-ac4f-e82219558735\">\n",
              "  <button class=\"colab-df-quickchart\" onclick=\"quickchart('df-64771378-6277-4c71-ac4f-e82219558735')\"\n",
              "            title=\"Suggest charts.\"\n",
              "            style=\"display:none;\">\n",
              "\n",
              "<svg xmlns=\"http://www.w3.org/2000/svg\" height=\"24px\"viewBox=\"0 0 24 24\"\n",
              "     width=\"24px\">\n",
              "    <g>\n",
              "        <path d=\"M19 3H5c-1.1 0-2 .9-2 2v14c0 1.1.9 2 2 2h14c1.1 0 2-.9 2-2V5c0-1.1-.9-2-2-2zM9 17H7v-7h2v7zm4 0h-2V7h2v10zm4 0h-2v-4h2v4z\"/>\n",
              "    </g>\n",
              "</svg>\n",
              "  </button>\n",
              "\n",
              "<style>\n",
              "  .colab-df-quickchart {\n",
              "      --bg-color: #E8F0FE;\n",
              "      --fill-color: #1967D2;\n",
              "      --hover-bg-color: #E2EBFA;\n",
              "      --hover-fill-color: #174EA6;\n",
              "      --disabled-fill-color: #AAA;\n",
              "      --disabled-bg-color: #DDD;\n",
              "  }\n",
              "\n",
              "  [theme=dark] .colab-df-quickchart {\n",
              "      --bg-color: #3B4455;\n",
              "      --fill-color: #D2E3FC;\n",
              "      --hover-bg-color: #434B5C;\n",
              "      --hover-fill-color: #FFFFFF;\n",
              "      --disabled-bg-color: #3B4455;\n",
              "      --disabled-fill-color: #666;\n",
              "  }\n",
              "\n",
              "  .colab-df-quickchart {\n",
              "    background-color: var(--bg-color);\n",
              "    border: none;\n",
              "    border-radius: 50%;\n",
              "    cursor: pointer;\n",
              "    display: none;\n",
              "    fill: var(--fill-color);\n",
              "    height: 32px;\n",
              "    padding: 0;\n",
              "    width: 32px;\n",
              "  }\n",
              "\n",
              "  .colab-df-quickchart:hover {\n",
              "    background-color: var(--hover-bg-color);\n",
              "    box-shadow: 0 1px 2px rgba(60, 64, 67, 0.3), 0 1px 3px 1px rgba(60, 64, 67, 0.15);\n",
              "    fill: var(--button-hover-fill-color);\n",
              "  }\n",
              "\n",
              "  .colab-df-quickchart-complete:disabled,\n",
              "  .colab-df-quickchart-complete:disabled:hover {\n",
              "    background-color: var(--disabled-bg-color);\n",
              "    fill: var(--disabled-fill-color);\n",
              "    box-shadow: none;\n",
              "  }\n",
              "\n",
              "  .colab-df-spinner {\n",
              "    border: 2px solid var(--fill-color);\n",
              "    border-color: transparent;\n",
              "    border-bottom-color: var(--fill-color);\n",
              "    animation:\n",
              "      spin 1s steps(1) infinite;\n",
              "  }\n",
              "\n",
              "  @keyframes spin {\n",
              "    0% {\n",
              "      border-color: transparent;\n",
              "      border-bottom-color: var(--fill-color);\n",
              "      border-left-color: var(--fill-color);\n",
              "    }\n",
              "    20% {\n",
              "      border-color: transparent;\n",
              "      border-left-color: var(--fill-color);\n",
              "      border-top-color: var(--fill-color);\n",
              "    }\n",
              "    30% {\n",
              "      border-color: transparent;\n",
              "      border-left-color: var(--fill-color);\n",
              "      border-top-color: var(--fill-color);\n",
              "      border-right-color: var(--fill-color);\n",
              "    }\n",
              "    40% {\n",
              "      border-color: transparent;\n",
              "      border-right-color: var(--fill-color);\n",
              "      border-top-color: var(--fill-color);\n",
              "    }\n",
              "    60% {\n",
              "      border-color: transparent;\n",
              "      border-right-color: var(--fill-color);\n",
              "    }\n",
              "    80% {\n",
              "      border-color: transparent;\n",
              "      border-right-color: var(--fill-color);\n",
              "      border-bottom-color: var(--fill-color);\n",
              "    }\n",
              "    90% {\n",
              "      border-color: transparent;\n",
              "      border-bottom-color: var(--fill-color);\n",
              "    }\n",
              "  }\n",
              "</style>\n",
              "\n",
              "  <script>\n",
              "    async function quickchart(key) {\n",
              "      const quickchartButtonEl =\n",
              "        document.querySelector('#' + key + ' button');\n",
              "      quickchartButtonEl.disabled = true;  // To prevent multiple clicks.\n",
              "      quickchartButtonEl.classList.add('colab-df-spinner');\n",
              "      try {\n",
              "        const charts = await google.colab.kernel.invokeFunction(\n",
              "            'suggestCharts', [key], {});\n",
              "      } catch (error) {\n",
              "        console.error('Error during call to suggestCharts:', error);\n",
              "      }\n",
              "      quickchartButtonEl.classList.remove('colab-df-spinner');\n",
              "      quickchartButtonEl.classList.add('colab-df-quickchart-complete');\n",
              "    }\n",
              "    (() => {\n",
              "      let quickchartButtonEl =\n",
              "        document.querySelector('#df-64771378-6277-4c71-ac4f-e82219558735 button');\n",
              "      quickchartButtonEl.style.display =\n",
              "        google.colab.kernel.accessAllowed ? 'block' : 'none';\n",
              "    })();\n",
              "  </script>\n",
              "</div>\n",
              "    </div>\n",
              "  </div>\n"
            ]
          },
          "metadata": {},
          "execution_count": 166
        }
      ]
    },
    {
      "cell_type": "code",
      "source": [
        "df.shape"
      ],
      "metadata": {
        "colab": {
          "base_uri": "https://localhost:8080/"
        },
        "id": "kUQ4gS-3vMKM",
        "outputId": "34457558-ee0a-4576-c7ab-ee27c6df8b96"
      },
      "execution_count": 167,
      "outputs": [
        {
          "output_type": "execute_result",
          "data": {
            "text/plain": [
              "(1727, 7)"
            ]
          },
          "metadata": {},
          "execution_count": 167
        }
      ]
    },
    {
      "cell_type": "code",
      "source": [
        "col_names = ['buying', 'maint', 'doors', 'persons', 'lug_boot', 'safety', 'class']\n",
        "\n",
        "\n",
        "df.columns = col_names\n",
        "\n",
        "col_names"
      ],
      "metadata": {
        "colab": {
          "base_uri": "https://localhost:8080/"
        },
        "id": "6H5zjihOwtZ1",
        "outputId": "166b841d-a0a9-45e6-b83d-2337b051dc8e"
      },
      "execution_count": 168,
      "outputs": [
        {
          "output_type": "execute_result",
          "data": {
            "text/plain": [
              "['buying', 'maint', 'doors', 'persons', 'lug_boot', 'safety', 'class']"
            ]
          },
          "metadata": {},
          "execution_count": 168
        }
      ]
    },
    {
      "cell_type": "code",
      "source": [
        "df.head()"
      ],
      "metadata": {
        "colab": {
          "base_uri": "https://localhost:8080/",
          "height": 206
        },
        "id": "8FjA7XGUw7fo",
        "outputId": "031f5e00-df80-436e-ec51-c15c95bce59a"
      },
      "execution_count": 169,
      "outputs": [
        {
          "output_type": "execute_result",
          "data": {
            "text/plain": [
              "  buying  maint doors persons lug_boot safety  class\n",
              "0  vhigh  vhigh     2       2    small    med  unacc\n",
              "1  vhigh  vhigh     2       2    small   high  unacc\n",
              "2  vhigh  vhigh     2       2      med    low  unacc\n",
              "3  vhigh  vhigh     2       2      med    med  unacc\n",
              "4  vhigh  vhigh     2       2      med   high  unacc"
            ],
            "text/html": [
              "\n",
              "  <div id=\"df-fd440d10-c3a2-4de8-8164-225b3a7ba76b\" class=\"colab-df-container\">\n",
              "    <div>\n",
              "<style scoped>\n",
              "    .dataframe tbody tr th:only-of-type {\n",
              "        vertical-align: middle;\n",
              "    }\n",
              "\n",
              "    .dataframe tbody tr th {\n",
              "        vertical-align: top;\n",
              "    }\n",
              "\n",
              "    .dataframe thead th {\n",
              "        text-align: right;\n",
              "    }\n",
              "</style>\n",
              "<table border=\"1\" class=\"dataframe\">\n",
              "  <thead>\n",
              "    <tr style=\"text-align: right;\">\n",
              "      <th></th>\n",
              "      <th>buying</th>\n",
              "      <th>maint</th>\n",
              "      <th>doors</th>\n",
              "      <th>persons</th>\n",
              "      <th>lug_boot</th>\n",
              "      <th>safety</th>\n",
              "      <th>class</th>\n",
              "    </tr>\n",
              "  </thead>\n",
              "  <tbody>\n",
              "    <tr>\n",
              "      <th>0</th>\n",
              "      <td>vhigh</td>\n",
              "      <td>vhigh</td>\n",
              "      <td>2</td>\n",
              "      <td>2</td>\n",
              "      <td>small</td>\n",
              "      <td>med</td>\n",
              "      <td>unacc</td>\n",
              "    </tr>\n",
              "    <tr>\n",
              "      <th>1</th>\n",
              "      <td>vhigh</td>\n",
              "      <td>vhigh</td>\n",
              "      <td>2</td>\n",
              "      <td>2</td>\n",
              "      <td>small</td>\n",
              "      <td>high</td>\n",
              "      <td>unacc</td>\n",
              "    </tr>\n",
              "    <tr>\n",
              "      <th>2</th>\n",
              "      <td>vhigh</td>\n",
              "      <td>vhigh</td>\n",
              "      <td>2</td>\n",
              "      <td>2</td>\n",
              "      <td>med</td>\n",
              "      <td>low</td>\n",
              "      <td>unacc</td>\n",
              "    </tr>\n",
              "    <tr>\n",
              "      <th>3</th>\n",
              "      <td>vhigh</td>\n",
              "      <td>vhigh</td>\n",
              "      <td>2</td>\n",
              "      <td>2</td>\n",
              "      <td>med</td>\n",
              "      <td>med</td>\n",
              "      <td>unacc</td>\n",
              "    </tr>\n",
              "    <tr>\n",
              "      <th>4</th>\n",
              "      <td>vhigh</td>\n",
              "      <td>vhigh</td>\n",
              "      <td>2</td>\n",
              "      <td>2</td>\n",
              "      <td>med</td>\n",
              "      <td>high</td>\n",
              "      <td>unacc</td>\n",
              "    </tr>\n",
              "  </tbody>\n",
              "</table>\n",
              "</div>\n",
              "    <div class=\"colab-df-buttons\">\n",
              "\n",
              "  <div class=\"colab-df-container\">\n",
              "    <button class=\"colab-df-convert\" onclick=\"convertToInteractive('df-fd440d10-c3a2-4de8-8164-225b3a7ba76b')\"\n",
              "            title=\"Convert this dataframe to an interactive table.\"\n",
              "            style=\"display:none;\">\n",
              "\n",
              "  <svg xmlns=\"http://www.w3.org/2000/svg\" height=\"24px\" viewBox=\"0 -960 960 960\">\n",
              "    <path d=\"M120-120v-720h720v720H120Zm60-500h600v-160H180v160Zm220 220h160v-160H400v160Zm0 220h160v-160H400v160ZM180-400h160v-160H180v160Zm440 0h160v-160H620v160ZM180-180h160v-160H180v160Zm440 0h160v-160H620v160Z\"/>\n",
              "  </svg>\n",
              "    </button>\n",
              "\n",
              "  <style>\n",
              "    .colab-df-container {\n",
              "      display:flex;\n",
              "      gap: 12px;\n",
              "    }\n",
              "\n",
              "    .colab-df-convert {\n",
              "      background-color: #E8F0FE;\n",
              "      border: none;\n",
              "      border-radius: 50%;\n",
              "      cursor: pointer;\n",
              "      display: none;\n",
              "      fill: #1967D2;\n",
              "      height: 32px;\n",
              "      padding: 0 0 0 0;\n",
              "      width: 32px;\n",
              "    }\n",
              "\n",
              "    .colab-df-convert:hover {\n",
              "      background-color: #E2EBFA;\n",
              "      box-shadow: 0px 1px 2px rgba(60, 64, 67, 0.3), 0px 1px 3px 1px rgba(60, 64, 67, 0.15);\n",
              "      fill: #174EA6;\n",
              "    }\n",
              "\n",
              "    .colab-df-buttons div {\n",
              "      margin-bottom: 4px;\n",
              "    }\n",
              "\n",
              "    [theme=dark] .colab-df-convert {\n",
              "      background-color: #3B4455;\n",
              "      fill: #D2E3FC;\n",
              "    }\n",
              "\n",
              "    [theme=dark] .colab-df-convert:hover {\n",
              "      background-color: #434B5C;\n",
              "      box-shadow: 0px 1px 3px 1px rgba(0, 0, 0, 0.15);\n",
              "      filter: drop-shadow(0px 1px 2px rgba(0, 0, 0, 0.3));\n",
              "      fill: #FFFFFF;\n",
              "    }\n",
              "  </style>\n",
              "\n",
              "    <script>\n",
              "      const buttonEl =\n",
              "        document.querySelector('#df-fd440d10-c3a2-4de8-8164-225b3a7ba76b button.colab-df-convert');\n",
              "      buttonEl.style.display =\n",
              "        google.colab.kernel.accessAllowed ? 'block' : 'none';\n",
              "\n",
              "      async function convertToInteractive(key) {\n",
              "        const element = document.querySelector('#df-fd440d10-c3a2-4de8-8164-225b3a7ba76b');\n",
              "        const dataTable =\n",
              "          await google.colab.kernel.invokeFunction('convertToInteractive',\n",
              "                                                    [key], {});\n",
              "        if (!dataTable) return;\n",
              "\n",
              "        const docLinkHtml = 'Like what you see? Visit the ' +\n",
              "          '<a target=\"_blank\" href=https://colab.research.google.com/notebooks/data_table.ipynb>data table notebook</a>'\n",
              "          + ' to learn more about interactive tables.';\n",
              "        element.innerHTML = '';\n",
              "        dataTable['output_type'] = 'display_data';\n",
              "        await google.colab.output.renderOutput(dataTable, element);\n",
              "        const docLink = document.createElement('div');\n",
              "        docLink.innerHTML = docLinkHtml;\n",
              "        element.appendChild(docLink);\n",
              "      }\n",
              "    </script>\n",
              "  </div>\n",
              "\n",
              "\n",
              "<div id=\"df-b3eaeab2-ec23-4ab5-bb5f-023b2c51bfd8\">\n",
              "  <button class=\"colab-df-quickchart\" onclick=\"quickchart('df-b3eaeab2-ec23-4ab5-bb5f-023b2c51bfd8')\"\n",
              "            title=\"Suggest charts.\"\n",
              "            style=\"display:none;\">\n",
              "\n",
              "<svg xmlns=\"http://www.w3.org/2000/svg\" height=\"24px\"viewBox=\"0 0 24 24\"\n",
              "     width=\"24px\">\n",
              "    <g>\n",
              "        <path d=\"M19 3H5c-1.1 0-2 .9-2 2v14c0 1.1.9 2 2 2h14c1.1 0 2-.9 2-2V5c0-1.1-.9-2-2-2zM9 17H7v-7h2v7zm4 0h-2V7h2v10zm4 0h-2v-4h2v4z\"/>\n",
              "    </g>\n",
              "</svg>\n",
              "  </button>\n",
              "\n",
              "<style>\n",
              "  .colab-df-quickchart {\n",
              "      --bg-color: #E8F0FE;\n",
              "      --fill-color: #1967D2;\n",
              "      --hover-bg-color: #E2EBFA;\n",
              "      --hover-fill-color: #174EA6;\n",
              "      --disabled-fill-color: #AAA;\n",
              "      --disabled-bg-color: #DDD;\n",
              "  }\n",
              "\n",
              "  [theme=dark] .colab-df-quickchart {\n",
              "      --bg-color: #3B4455;\n",
              "      --fill-color: #D2E3FC;\n",
              "      --hover-bg-color: #434B5C;\n",
              "      --hover-fill-color: #FFFFFF;\n",
              "      --disabled-bg-color: #3B4455;\n",
              "      --disabled-fill-color: #666;\n",
              "  }\n",
              "\n",
              "  .colab-df-quickchart {\n",
              "    background-color: var(--bg-color);\n",
              "    border: none;\n",
              "    border-radius: 50%;\n",
              "    cursor: pointer;\n",
              "    display: none;\n",
              "    fill: var(--fill-color);\n",
              "    height: 32px;\n",
              "    padding: 0;\n",
              "    width: 32px;\n",
              "  }\n",
              "\n",
              "  .colab-df-quickchart:hover {\n",
              "    background-color: var(--hover-bg-color);\n",
              "    box-shadow: 0 1px 2px rgba(60, 64, 67, 0.3), 0 1px 3px 1px rgba(60, 64, 67, 0.15);\n",
              "    fill: var(--button-hover-fill-color);\n",
              "  }\n",
              "\n",
              "  .colab-df-quickchart-complete:disabled,\n",
              "  .colab-df-quickchart-complete:disabled:hover {\n",
              "    background-color: var(--disabled-bg-color);\n",
              "    fill: var(--disabled-fill-color);\n",
              "    box-shadow: none;\n",
              "  }\n",
              "\n",
              "  .colab-df-spinner {\n",
              "    border: 2px solid var(--fill-color);\n",
              "    border-color: transparent;\n",
              "    border-bottom-color: var(--fill-color);\n",
              "    animation:\n",
              "      spin 1s steps(1) infinite;\n",
              "  }\n",
              "\n",
              "  @keyframes spin {\n",
              "    0% {\n",
              "      border-color: transparent;\n",
              "      border-bottom-color: var(--fill-color);\n",
              "      border-left-color: var(--fill-color);\n",
              "    }\n",
              "    20% {\n",
              "      border-color: transparent;\n",
              "      border-left-color: var(--fill-color);\n",
              "      border-top-color: var(--fill-color);\n",
              "    }\n",
              "    30% {\n",
              "      border-color: transparent;\n",
              "      border-left-color: var(--fill-color);\n",
              "      border-top-color: var(--fill-color);\n",
              "      border-right-color: var(--fill-color);\n",
              "    }\n",
              "    40% {\n",
              "      border-color: transparent;\n",
              "      border-right-color: var(--fill-color);\n",
              "      border-top-color: var(--fill-color);\n",
              "    }\n",
              "    60% {\n",
              "      border-color: transparent;\n",
              "      border-right-color: var(--fill-color);\n",
              "    }\n",
              "    80% {\n",
              "      border-color: transparent;\n",
              "      border-right-color: var(--fill-color);\n",
              "      border-bottom-color: var(--fill-color);\n",
              "    }\n",
              "    90% {\n",
              "      border-color: transparent;\n",
              "      border-bottom-color: var(--fill-color);\n",
              "    }\n",
              "  }\n",
              "</style>\n",
              "\n",
              "  <script>\n",
              "    async function quickchart(key) {\n",
              "      const quickchartButtonEl =\n",
              "        document.querySelector('#' + key + ' button');\n",
              "      quickchartButtonEl.disabled = true;  // To prevent multiple clicks.\n",
              "      quickchartButtonEl.classList.add('colab-df-spinner');\n",
              "      try {\n",
              "        const charts = await google.colab.kernel.invokeFunction(\n",
              "            'suggestCharts', [key], {});\n",
              "      } catch (error) {\n",
              "        console.error('Error during call to suggestCharts:', error);\n",
              "      }\n",
              "      quickchartButtonEl.classList.remove('colab-df-spinner');\n",
              "      quickchartButtonEl.classList.add('colab-df-quickchart-complete');\n",
              "    }\n",
              "    (() => {\n",
              "      let quickchartButtonEl =\n",
              "        document.querySelector('#df-b3eaeab2-ec23-4ab5-bb5f-023b2c51bfd8 button');\n",
              "      quickchartButtonEl.style.display =\n",
              "        google.colab.kernel.accessAllowed ? 'block' : 'none';\n",
              "    })();\n",
              "  </script>\n",
              "</div>\n",
              "    </div>\n",
              "  </div>\n"
            ]
          },
          "metadata": {},
          "execution_count": 169
        }
      ]
    },
    {
      "cell_type": "code",
      "source": [
        "set(df.safety.values)"
      ],
      "metadata": {
        "colab": {
          "base_uri": "https://localhost:8080/"
        },
        "id": "TY9FAuPHvalV",
        "outputId": "e5678a6a-31e1-422d-9775-8dffa649d426"
      },
      "execution_count": 170,
      "outputs": [
        {
          "output_type": "execute_result",
          "data": {
            "text/plain": [
              "{'high', 'low', 'med'}"
            ]
          },
          "metadata": {},
          "execution_count": 170
        }
      ]
    },
    {
      "cell_type": "code",
      "source": [
        "set(df['class'].values)"
      ],
      "metadata": {
        "colab": {
          "base_uri": "https://localhost:8080/"
        },
        "id": "UvrQiZwlwUhS",
        "outputId": "194c85f8-663b-4653-ac1e-31847783c42c"
      },
      "execution_count": 171,
      "outputs": [
        {
          "output_type": "execute_result",
          "data": {
            "text/plain": [
              "{'acc', 'good', 'unacc', 'vgood'}"
            ]
          },
          "metadata": {},
          "execution_count": 171
        }
      ]
    },
    {
      "cell_type": "code",
      "source": [
        "set(df.lug_boot.values)"
      ],
      "metadata": {
        "colab": {
          "base_uri": "https://localhost:8080/"
        },
        "id": "HeCUGU6xwU9t",
        "outputId": "7b2f3373-e788-4a93-c118-5db00f90eef5"
      },
      "execution_count": 172,
      "outputs": [
        {
          "output_type": "execute_result",
          "data": {
            "text/plain": [
              "{'big', 'med', 'small'}"
            ]
          },
          "metadata": {},
          "execution_count": 172
        }
      ]
    },
    {
      "cell_type": "code",
      "source": [
        "df.describe()"
      ],
      "metadata": {
        "colab": {
          "base_uri": "https://localhost:8080/",
          "height": 175
        },
        "id": "b3Bk2tyWxAub",
        "outputId": "d49dedf7-fdc4-4c35-c1bd-ab96c6880658"
      },
      "execution_count": 173,
      "outputs": [
        {
          "output_type": "execute_result",
          "data": {
            "text/plain": [
              "       buying maint doors persons lug_boot safety  class\n",
              "count    1727  1727  1727    1727     1727   1727   1727\n",
              "unique      4     4     4       3        3      3      4\n",
              "top      high  high     3       4      med    med  unacc\n",
              "freq      432   432   432     576      576    576   1209"
            ],
            "text/html": [
              "\n",
              "  <div id=\"df-a5f05e53-f405-4008-ad59-12601e4243f9\" class=\"colab-df-container\">\n",
              "    <div>\n",
              "<style scoped>\n",
              "    .dataframe tbody tr th:only-of-type {\n",
              "        vertical-align: middle;\n",
              "    }\n",
              "\n",
              "    .dataframe tbody tr th {\n",
              "        vertical-align: top;\n",
              "    }\n",
              "\n",
              "    .dataframe thead th {\n",
              "        text-align: right;\n",
              "    }\n",
              "</style>\n",
              "<table border=\"1\" class=\"dataframe\">\n",
              "  <thead>\n",
              "    <tr style=\"text-align: right;\">\n",
              "      <th></th>\n",
              "      <th>buying</th>\n",
              "      <th>maint</th>\n",
              "      <th>doors</th>\n",
              "      <th>persons</th>\n",
              "      <th>lug_boot</th>\n",
              "      <th>safety</th>\n",
              "      <th>class</th>\n",
              "    </tr>\n",
              "  </thead>\n",
              "  <tbody>\n",
              "    <tr>\n",
              "      <th>count</th>\n",
              "      <td>1727</td>\n",
              "      <td>1727</td>\n",
              "      <td>1727</td>\n",
              "      <td>1727</td>\n",
              "      <td>1727</td>\n",
              "      <td>1727</td>\n",
              "      <td>1727</td>\n",
              "    </tr>\n",
              "    <tr>\n",
              "      <th>unique</th>\n",
              "      <td>4</td>\n",
              "      <td>4</td>\n",
              "      <td>4</td>\n",
              "      <td>3</td>\n",
              "      <td>3</td>\n",
              "      <td>3</td>\n",
              "      <td>4</td>\n",
              "    </tr>\n",
              "    <tr>\n",
              "      <th>top</th>\n",
              "      <td>high</td>\n",
              "      <td>high</td>\n",
              "      <td>3</td>\n",
              "      <td>4</td>\n",
              "      <td>med</td>\n",
              "      <td>med</td>\n",
              "      <td>unacc</td>\n",
              "    </tr>\n",
              "    <tr>\n",
              "      <th>freq</th>\n",
              "      <td>432</td>\n",
              "      <td>432</td>\n",
              "      <td>432</td>\n",
              "      <td>576</td>\n",
              "      <td>576</td>\n",
              "      <td>576</td>\n",
              "      <td>1209</td>\n",
              "    </tr>\n",
              "  </tbody>\n",
              "</table>\n",
              "</div>\n",
              "    <div class=\"colab-df-buttons\">\n",
              "\n",
              "  <div class=\"colab-df-container\">\n",
              "    <button class=\"colab-df-convert\" onclick=\"convertToInteractive('df-a5f05e53-f405-4008-ad59-12601e4243f9')\"\n",
              "            title=\"Convert this dataframe to an interactive table.\"\n",
              "            style=\"display:none;\">\n",
              "\n",
              "  <svg xmlns=\"http://www.w3.org/2000/svg\" height=\"24px\" viewBox=\"0 -960 960 960\">\n",
              "    <path d=\"M120-120v-720h720v720H120Zm60-500h600v-160H180v160Zm220 220h160v-160H400v160Zm0 220h160v-160H400v160ZM180-400h160v-160H180v160Zm440 0h160v-160H620v160ZM180-180h160v-160H180v160Zm440 0h160v-160H620v160Z\"/>\n",
              "  </svg>\n",
              "    </button>\n",
              "\n",
              "  <style>\n",
              "    .colab-df-container {\n",
              "      display:flex;\n",
              "      gap: 12px;\n",
              "    }\n",
              "\n",
              "    .colab-df-convert {\n",
              "      background-color: #E8F0FE;\n",
              "      border: none;\n",
              "      border-radius: 50%;\n",
              "      cursor: pointer;\n",
              "      display: none;\n",
              "      fill: #1967D2;\n",
              "      height: 32px;\n",
              "      padding: 0 0 0 0;\n",
              "      width: 32px;\n",
              "    }\n",
              "\n",
              "    .colab-df-convert:hover {\n",
              "      background-color: #E2EBFA;\n",
              "      box-shadow: 0px 1px 2px rgba(60, 64, 67, 0.3), 0px 1px 3px 1px rgba(60, 64, 67, 0.15);\n",
              "      fill: #174EA6;\n",
              "    }\n",
              "\n",
              "    .colab-df-buttons div {\n",
              "      margin-bottom: 4px;\n",
              "    }\n",
              "\n",
              "    [theme=dark] .colab-df-convert {\n",
              "      background-color: #3B4455;\n",
              "      fill: #D2E3FC;\n",
              "    }\n",
              "\n",
              "    [theme=dark] .colab-df-convert:hover {\n",
              "      background-color: #434B5C;\n",
              "      box-shadow: 0px 1px 3px 1px rgba(0, 0, 0, 0.15);\n",
              "      filter: drop-shadow(0px 1px 2px rgba(0, 0, 0, 0.3));\n",
              "      fill: #FFFFFF;\n",
              "    }\n",
              "  </style>\n",
              "\n",
              "    <script>\n",
              "      const buttonEl =\n",
              "        document.querySelector('#df-a5f05e53-f405-4008-ad59-12601e4243f9 button.colab-df-convert');\n",
              "      buttonEl.style.display =\n",
              "        google.colab.kernel.accessAllowed ? 'block' : 'none';\n",
              "\n",
              "      async function convertToInteractive(key) {\n",
              "        const element = document.querySelector('#df-a5f05e53-f405-4008-ad59-12601e4243f9');\n",
              "        const dataTable =\n",
              "          await google.colab.kernel.invokeFunction('convertToInteractive',\n",
              "                                                    [key], {});\n",
              "        if (!dataTable) return;\n",
              "\n",
              "        const docLinkHtml = 'Like what you see? Visit the ' +\n",
              "          '<a target=\"_blank\" href=https://colab.research.google.com/notebooks/data_table.ipynb>data table notebook</a>'\n",
              "          + ' to learn more about interactive tables.';\n",
              "        element.innerHTML = '';\n",
              "        dataTable['output_type'] = 'display_data';\n",
              "        await google.colab.output.renderOutput(dataTable, element);\n",
              "        const docLink = document.createElement('div');\n",
              "        docLink.innerHTML = docLinkHtml;\n",
              "        element.appendChild(docLink);\n",
              "      }\n",
              "    </script>\n",
              "  </div>\n",
              "\n",
              "\n",
              "<div id=\"df-8db88aab-5014-4228-b26c-e985df918eb1\">\n",
              "  <button class=\"colab-df-quickchart\" onclick=\"quickchart('df-8db88aab-5014-4228-b26c-e985df918eb1')\"\n",
              "            title=\"Suggest charts.\"\n",
              "            style=\"display:none;\">\n",
              "\n",
              "<svg xmlns=\"http://www.w3.org/2000/svg\" height=\"24px\"viewBox=\"0 0 24 24\"\n",
              "     width=\"24px\">\n",
              "    <g>\n",
              "        <path d=\"M19 3H5c-1.1 0-2 .9-2 2v14c0 1.1.9 2 2 2h14c1.1 0 2-.9 2-2V5c0-1.1-.9-2-2-2zM9 17H7v-7h2v7zm4 0h-2V7h2v10zm4 0h-2v-4h2v4z\"/>\n",
              "    </g>\n",
              "</svg>\n",
              "  </button>\n",
              "\n",
              "<style>\n",
              "  .colab-df-quickchart {\n",
              "      --bg-color: #E8F0FE;\n",
              "      --fill-color: #1967D2;\n",
              "      --hover-bg-color: #E2EBFA;\n",
              "      --hover-fill-color: #174EA6;\n",
              "      --disabled-fill-color: #AAA;\n",
              "      --disabled-bg-color: #DDD;\n",
              "  }\n",
              "\n",
              "  [theme=dark] .colab-df-quickchart {\n",
              "      --bg-color: #3B4455;\n",
              "      --fill-color: #D2E3FC;\n",
              "      --hover-bg-color: #434B5C;\n",
              "      --hover-fill-color: #FFFFFF;\n",
              "      --disabled-bg-color: #3B4455;\n",
              "      --disabled-fill-color: #666;\n",
              "  }\n",
              "\n",
              "  .colab-df-quickchart {\n",
              "    background-color: var(--bg-color);\n",
              "    border: none;\n",
              "    border-radius: 50%;\n",
              "    cursor: pointer;\n",
              "    display: none;\n",
              "    fill: var(--fill-color);\n",
              "    height: 32px;\n",
              "    padding: 0;\n",
              "    width: 32px;\n",
              "  }\n",
              "\n",
              "  .colab-df-quickchart:hover {\n",
              "    background-color: var(--hover-bg-color);\n",
              "    box-shadow: 0 1px 2px rgba(60, 64, 67, 0.3), 0 1px 3px 1px rgba(60, 64, 67, 0.15);\n",
              "    fill: var(--button-hover-fill-color);\n",
              "  }\n",
              "\n",
              "  .colab-df-quickchart-complete:disabled,\n",
              "  .colab-df-quickchart-complete:disabled:hover {\n",
              "    background-color: var(--disabled-bg-color);\n",
              "    fill: var(--disabled-fill-color);\n",
              "    box-shadow: none;\n",
              "  }\n",
              "\n",
              "  .colab-df-spinner {\n",
              "    border: 2px solid var(--fill-color);\n",
              "    border-color: transparent;\n",
              "    border-bottom-color: var(--fill-color);\n",
              "    animation:\n",
              "      spin 1s steps(1) infinite;\n",
              "  }\n",
              "\n",
              "  @keyframes spin {\n",
              "    0% {\n",
              "      border-color: transparent;\n",
              "      border-bottom-color: var(--fill-color);\n",
              "      border-left-color: var(--fill-color);\n",
              "    }\n",
              "    20% {\n",
              "      border-color: transparent;\n",
              "      border-left-color: var(--fill-color);\n",
              "      border-top-color: var(--fill-color);\n",
              "    }\n",
              "    30% {\n",
              "      border-color: transparent;\n",
              "      border-left-color: var(--fill-color);\n",
              "      border-top-color: var(--fill-color);\n",
              "      border-right-color: var(--fill-color);\n",
              "    }\n",
              "    40% {\n",
              "      border-color: transparent;\n",
              "      border-right-color: var(--fill-color);\n",
              "      border-top-color: var(--fill-color);\n",
              "    }\n",
              "    60% {\n",
              "      border-color: transparent;\n",
              "      border-right-color: var(--fill-color);\n",
              "    }\n",
              "    80% {\n",
              "      border-color: transparent;\n",
              "      border-right-color: var(--fill-color);\n",
              "      border-bottom-color: var(--fill-color);\n",
              "    }\n",
              "    90% {\n",
              "      border-color: transparent;\n",
              "      border-bottom-color: var(--fill-color);\n",
              "    }\n",
              "  }\n",
              "</style>\n",
              "\n",
              "  <script>\n",
              "    async function quickchart(key) {\n",
              "      const quickchartButtonEl =\n",
              "        document.querySelector('#' + key + ' button');\n",
              "      quickchartButtonEl.disabled = true;  // To prevent multiple clicks.\n",
              "      quickchartButtonEl.classList.add('colab-df-spinner');\n",
              "      try {\n",
              "        const charts = await google.colab.kernel.invokeFunction(\n",
              "            'suggestCharts', [key], {});\n",
              "      } catch (error) {\n",
              "        console.error('Error during call to suggestCharts:', error);\n",
              "      }\n",
              "      quickchartButtonEl.classList.remove('colab-df-spinner');\n",
              "      quickchartButtonEl.classList.add('colab-df-quickchart-complete');\n",
              "    }\n",
              "    (() => {\n",
              "      let quickchartButtonEl =\n",
              "        document.querySelector('#df-8db88aab-5014-4228-b26c-e985df918eb1 button');\n",
              "      quickchartButtonEl.style.display =\n",
              "        google.colab.kernel.accessAllowed ? 'block' : 'none';\n",
              "    })();\n",
              "  </script>\n",
              "</div>\n",
              "    </div>\n",
              "  </div>\n"
            ]
          },
          "metadata": {},
          "execution_count": 173
        }
      ]
    },
    {
      "cell_type": "code",
      "source": [
        "X = df.drop(['class'], axis=1)\n",
        "y = df['class']"
      ],
      "metadata": {
        "id": "b3z04CJWxgtY"
      },
      "execution_count": 174,
      "outputs": []
    },
    {
      "cell_type": "code",
      "source": [
        "X_train, X_test, y_train, y_test = train_test_split(X, y, test_size=0.33)"
      ],
      "metadata": {
        "id": "2FZ3WGiHxuW6"
      },
      "execution_count": 175,
      "outputs": []
    },
    {
      "cell_type": "code",
      "source": [
        "X_train.head()"
      ],
      "metadata": {
        "colab": {
          "base_uri": "https://localhost:8080/",
          "height": 206
        },
        "id": "1otX_ViTx72c",
        "outputId": "9b426fdc-2c7b-47e5-8234-fbbe18174af3"
      },
      "execution_count": 176,
      "outputs": [
        {
          "output_type": "execute_result",
          "data": {
            "text/plain": [
              "     buying  maint doors persons lug_boot safety\n",
              "342   vhigh    low     2    more    small    med\n",
              "150   vhigh   high     3       4      big    med\n",
              "1264    med    low     4    more      med   high\n",
              "441    high  vhigh     2       4    small    med\n",
              "1542    low    med     3       2      med    med"
            ],
            "text/html": [
              "\n",
              "  <div id=\"df-7e98bb42-2477-4efc-ae26-164a379dfec0\" class=\"colab-df-container\">\n",
              "    <div>\n",
              "<style scoped>\n",
              "    .dataframe tbody tr th:only-of-type {\n",
              "        vertical-align: middle;\n",
              "    }\n",
              "\n",
              "    .dataframe tbody tr th {\n",
              "        vertical-align: top;\n",
              "    }\n",
              "\n",
              "    .dataframe thead th {\n",
              "        text-align: right;\n",
              "    }\n",
              "</style>\n",
              "<table border=\"1\" class=\"dataframe\">\n",
              "  <thead>\n",
              "    <tr style=\"text-align: right;\">\n",
              "      <th></th>\n",
              "      <th>buying</th>\n",
              "      <th>maint</th>\n",
              "      <th>doors</th>\n",
              "      <th>persons</th>\n",
              "      <th>lug_boot</th>\n",
              "      <th>safety</th>\n",
              "    </tr>\n",
              "  </thead>\n",
              "  <tbody>\n",
              "    <tr>\n",
              "      <th>342</th>\n",
              "      <td>vhigh</td>\n",
              "      <td>low</td>\n",
              "      <td>2</td>\n",
              "      <td>more</td>\n",
              "      <td>small</td>\n",
              "      <td>med</td>\n",
              "    </tr>\n",
              "    <tr>\n",
              "      <th>150</th>\n",
              "      <td>vhigh</td>\n",
              "      <td>high</td>\n",
              "      <td>3</td>\n",
              "      <td>4</td>\n",
              "      <td>big</td>\n",
              "      <td>med</td>\n",
              "    </tr>\n",
              "    <tr>\n",
              "      <th>1264</th>\n",
              "      <td>med</td>\n",
              "      <td>low</td>\n",
              "      <td>4</td>\n",
              "      <td>more</td>\n",
              "      <td>med</td>\n",
              "      <td>high</td>\n",
              "    </tr>\n",
              "    <tr>\n",
              "      <th>441</th>\n",
              "      <td>high</td>\n",
              "      <td>vhigh</td>\n",
              "      <td>2</td>\n",
              "      <td>4</td>\n",
              "      <td>small</td>\n",
              "      <td>med</td>\n",
              "    </tr>\n",
              "    <tr>\n",
              "      <th>1542</th>\n",
              "      <td>low</td>\n",
              "      <td>med</td>\n",
              "      <td>3</td>\n",
              "      <td>2</td>\n",
              "      <td>med</td>\n",
              "      <td>med</td>\n",
              "    </tr>\n",
              "  </tbody>\n",
              "</table>\n",
              "</div>\n",
              "    <div class=\"colab-df-buttons\">\n",
              "\n",
              "  <div class=\"colab-df-container\">\n",
              "    <button class=\"colab-df-convert\" onclick=\"convertToInteractive('df-7e98bb42-2477-4efc-ae26-164a379dfec0')\"\n",
              "            title=\"Convert this dataframe to an interactive table.\"\n",
              "            style=\"display:none;\">\n",
              "\n",
              "  <svg xmlns=\"http://www.w3.org/2000/svg\" height=\"24px\" viewBox=\"0 -960 960 960\">\n",
              "    <path d=\"M120-120v-720h720v720H120Zm60-500h600v-160H180v160Zm220 220h160v-160H400v160Zm0 220h160v-160H400v160ZM180-400h160v-160H180v160Zm440 0h160v-160H620v160ZM180-180h160v-160H180v160Zm440 0h160v-160H620v160Z\"/>\n",
              "  </svg>\n",
              "    </button>\n",
              "\n",
              "  <style>\n",
              "    .colab-df-container {\n",
              "      display:flex;\n",
              "      gap: 12px;\n",
              "    }\n",
              "\n",
              "    .colab-df-convert {\n",
              "      background-color: #E8F0FE;\n",
              "      border: none;\n",
              "      border-radius: 50%;\n",
              "      cursor: pointer;\n",
              "      display: none;\n",
              "      fill: #1967D2;\n",
              "      height: 32px;\n",
              "      padding: 0 0 0 0;\n",
              "      width: 32px;\n",
              "    }\n",
              "\n",
              "    .colab-df-convert:hover {\n",
              "      background-color: #E2EBFA;\n",
              "      box-shadow: 0px 1px 2px rgba(60, 64, 67, 0.3), 0px 1px 3px 1px rgba(60, 64, 67, 0.15);\n",
              "      fill: #174EA6;\n",
              "    }\n",
              "\n",
              "    .colab-df-buttons div {\n",
              "      margin-bottom: 4px;\n",
              "    }\n",
              "\n",
              "    [theme=dark] .colab-df-convert {\n",
              "      background-color: #3B4455;\n",
              "      fill: #D2E3FC;\n",
              "    }\n",
              "\n",
              "    [theme=dark] .colab-df-convert:hover {\n",
              "      background-color: #434B5C;\n",
              "      box-shadow: 0px 1px 3px 1px rgba(0, 0, 0, 0.15);\n",
              "      filter: drop-shadow(0px 1px 2px rgba(0, 0, 0, 0.3));\n",
              "      fill: #FFFFFF;\n",
              "    }\n",
              "  </style>\n",
              "\n",
              "    <script>\n",
              "      const buttonEl =\n",
              "        document.querySelector('#df-7e98bb42-2477-4efc-ae26-164a379dfec0 button.colab-df-convert');\n",
              "      buttonEl.style.display =\n",
              "        google.colab.kernel.accessAllowed ? 'block' : 'none';\n",
              "\n",
              "      async function convertToInteractive(key) {\n",
              "        const element = document.querySelector('#df-7e98bb42-2477-4efc-ae26-164a379dfec0');\n",
              "        const dataTable =\n",
              "          await google.colab.kernel.invokeFunction('convertToInteractive',\n",
              "                                                    [key], {});\n",
              "        if (!dataTable) return;\n",
              "\n",
              "        const docLinkHtml = 'Like what you see? Visit the ' +\n",
              "          '<a target=\"_blank\" href=https://colab.research.google.com/notebooks/data_table.ipynb>data table notebook</a>'\n",
              "          + ' to learn more about interactive tables.';\n",
              "        element.innerHTML = '';\n",
              "        dataTable['output_type'] = 'display_data';\n",
              "        await google.colab.output.renderOutput(dataTable, element);\n",
              "        const docLink = document.createElement('div');\n",
              "        docLink.innerHTML = docLinkHtml;\n",
              "        element.appendChild(docLink);\n",
              "      }\n",
              "    </script>\n",
              "  </div>\n",
              "\n",
              "\n",
              "<div id=\"df-12ca3358-aa22-4068-b4b6-887fd0e5f6df\">\n",
              "  <button class=\"colab-df-quickchart\" onclick=\"quickchart('df-12ca3358-aa22-4068-b4b6-887fd0e5f6df')\"\n",
              "            title=\"Suggest charts.\"\n",
              "            style=\"display:none;\">\n",
              "\n",
              "<svg xmlns=\"http://www.w3.org/2000/svg\" height=\"24px\"viewBox=\"0 0 24 24\"\n",
              "     width=\"24px\">\n",
              "    <g>\n",
              "        <path d=\"M19 3H5c-1.1 0-2 .9-2 2v14c0 1.1.9 2 2 2h14c1.1 0 2-.9 2-2V5c0-1.1-.9-2-2-2zM9 17H7v-7h2v7zm4 0h-2V7h2v10zm4 0h-2v-4h2v4z\"/>\n",
              "    </g>\n",
              "</svg>\n",
              "  </button>\n",
              "\n",
              "<style>\n",
              "  .colab-df-quickchart {\n",
              "      --bg-color: #E8F0FE;\n",
              "      --fill-color: #1967D2;\n",
              "      --hover-bg-color: #E2EBFA;\n",
              "      --hover-fill-color: #174EA6;\n",
              "      --disabled-fill-color: #AAA;\n",
              "      --disabled-bg-color: #DDD;\n",
              "  }\n",
              "\n",
              "  [theme=dark] .colab-df-quickchart {\n",
              "      --bg-color: #3B4455;\n",
              "      --fill-color: #D2E3FC;\n",
              "      --hover-bg-color: #434B5C;\n",
              "      --hover-fill-color: #FFFFFF;\n",
              "      --disabled-bg-color: #3B4455;\n",
              "      --disabled-fill-color: #666;\n",
              "  }\n",
              "\n",
              "  .colab-df-quickchart {\n",
              "    background-color: var(--bg-color);\n",
              "    border: none;\n",
              "    border-radius: 50%;\n",
              "    cursor: pointer;\n",
              "    display: none;\n",
              "    fill: var(--fill-color);\n",
              "    height: 32px;\n",
              "    padding: 0;\n",
              "    width: 32px;\n",
              "  }\n",
              "\n",
              "  .colab-df-quickchart:hover {\n",
              "    background-color: var(--hover-bg-color);\n",
              "    box-shadow: 0 1px 2px rgba(60, 64, 67, 0.3), 0 1px 3px 1px rgba(60, 64, 67, 0.15);\n",
              "    fill: var(--button-hover-fill-color);\n",
              "  }\n",
              "\n",
              "  .colab-df-quickchart-complete:disabled,\n",
              "  .colab-df-quickchart-complete:disabled:hover {\n",
              "    background-color: var(--disabled-bg-color);\n",
              "    fill: var(--disabled-fill-color);\n",
              "    box-shadow: none;\n",
              "  }\n",
              "\n",
              "  .colab-df-spinner {\n",
              "    border: 2px solid var(--fill-color);\n",
              "    border-color: transparent;\n",
              "    border-bottom-color: var(--fill-color);\n",
              "    animation:\n",
              "      spin 1s steps(1) infinite;\n",
              "  }\n",
              "\n",
              "  @keyframes spin {\n",
              "    0% {\n",
              "      border-color: transparent;\n",
              "      border-bottom-color: var(--fill-color);\n",
              "      border-left-color: var(--fill-color);\n",
              "    }\n",
              "    20% {\n",
              "      border-color: transparent;\n",
              "      border-left-color: var(--fill-color);\n",
              "      border-top-color: var(--fill-color);\n",
              "    }\n",
              "    30% {\n",
              "      border-color: transparent;\n",
              "      border-left-color: var(--fill-color);\n",
              "      border-top-color: var(--fill-color);\n",
              "      border-right-color: var(--fill-color);\n",
              "    }\n",
              "    40% {\n",
              "      border-color: transparent;\n",
              "      border-right-color: var(--fill-color);\n",
              "      border-top-color: var(--fill-color);\n",
              "    }\n",
              "    60% {\n",
              "      border-color: transparent;\n",
              "      border-right-color: var(--fill-color);\n",
              "    }\n",
              "    80% {\n",
              "      border-color: transparent;\n",
              "      border-right-color: var(--fill-color);\n",
              "      border-bottom-color: var(--fill-color);\n",
              "    }\n",
              "    90% {\n",
              "      border-color: transparent;\n",
              "      border-bottom-color: var(--fill-color);\n",
              "    }\n",
              "  }\n",
              "</style>\n",
              "\n",
              "  <script>\n",
              "    async function quickchart(key) {\n",
              "      const quickchartButtonEl =\n",
              "        document.querySelector('#' + key + ' button');\n",
              "      quickchartButtonEl.disabled = true;  // To prevent multiple clicks.\n",
              "      quickchartButtonEl.classList.add('colab-df-spinner');\n",
              "      try {\n",
              "        const charts = await google.colab.kernel.invokeFunction(\n",
              "            'suggestCharts', [key], {});\n",
              "      } catch (error) {\n",
              "        console.error('Error during call to suggestCharts:', error);\n",
              "      }\n",
              "      quickchartButtonEl.classList.remove('colab-df-spinner');\n",
              "      quickchartButtonEl.classList.add('colab-df-quickchart-complete');\n",
              "    }\n",
              "    (() => {\n",
              "      let quickchartButtonEl =\n",
              "        document.querySelector('#df-12ca3358-aa22-4068-b4b6-887fd0e5f6df button');\n",
              "      quickchartButtonEl.style.display =\n",
              "        google.colab.kernel.accessAllowed ? 'block' : 'none';\n",
              "    })();\n",
              "  </script>\n",
              "</div>\n",
              "    </div>\n",
              "  </div>\n"
            ]
          },
          "metadata": {},
          "execution_count": 176
        }
      ]
    },
    {
      "cell_type": "code",
      "source": [
        "y_train.head()"
      ],
      "metadata": {
        "colab": {
          "base_uri": "https://localhost:8080/"
        },
        "id": "JlAuCYwAx-Eh",
        "outputId": "fb5b2135-a879-487d-84e7-d9eba52ebfd9"
      },
      "execution_count": 177,
      "outputs": [
        {
          "output_type": "execute_result",
          "data": {
            "text/plain": [
              "342     unacc\n",
              "150     unacc\n",
              "1264    vgood\n",
              "441     unacc\n",
              "1542    unacc\n",
              "Name: class, dtype: object"
            ]
          },
          "metadata": {},
          "execution_count": 177
        }
      ]
    },
    {
      "cell_type": "code",
      "source": [
        "print(y_train.shape)\n",
        "print(X_train.shape)"
      ],
      "metadata": {
        "colab": {
          "base_uri": "https://localhost:8080/"
        },
        "id": "yLPjkdPb0xIX",
        "outputId": "acf5f9d2-3742-4833-dd13-c7a3b55da672"
      },
      "execution_count": 178,
      "outputs": [
        {
          "output_type": "stream",
          "name": "stdout",
          "text": [
            "(1157,)\n",
            "(1157, 6)\n"
          ]
        }
      ]
    },
    {
      "cell_type": "code",
      "source": [
        "X_train = pd.get_dummies(X_train)\n",
        "X_train.shape"
      ],
      "metadata": {
        "colab": {
          "base_uri": "https://localhost:8080/"
        },
        "id": "CqA2WYYxyTXD",
        "outputId": "0a1159e3-b359-4b21-c3b2-f3c50604cd35"
      },
      "execution_count": 179,
      "outputs": [
        {
          "output_type": "execute_result",
          "data": {
            "text/plain": [
              "(1157, 21)"
            ]
          },
          "metadata": {},
          "execution_count": 179
        }
      ]
    },
    {
      "cell_type": "code",
      "source": [
        "y_train = pd.get_dummies(y_train)\n",
        "y_train.shape"
      ],
      "metadata": {
        "colab": {
          "base_uri": "https://localhost:8080/"
        },
        "id": "DaARsD8lydVh",
        "outputId": "e012b9ac-bf27-4ba7-c884-f960f633a8d3"
      },
      "execution_count": 180,
      "outputs": [
        {
          "output_type": "execute_result",
          "data": {
            "text/plain": [
              "(1157, 4)"
            ]
          },
          "metadata": {},
          "execution_count": 180
        }
      ]
    },
    {
      "cell_type": "code",
      "source": [
        "X_test = pd.get_dummies(X_test)\n",
        "y_test = pd.get_dummies(y_test)"
      ],
      "metadata": {
        "id": "KT6-CjJfyla7"
      },
      "execution_count": 181,
      "outputs": []
    },
    {
      "cell_type": "code",
      "source": [
        "print(X_test.shape, y_test.shape)"
      ],
      "metadata": {
        "colab": {
          "base_uri": "https://localhost:8080/"
        },
        "id": "pORzG8EKzJEZ",
        "outputId": "31a88231-7cf9-45ac-8d95-8966b18d6416"
      },
      "execution_count": 182,
      "outputs": [
        {
          "output_type": "stream",
          "name": "stdout",
          "text": [
            "(570, 21) (570, 4)\n"
          ]
        }
      ]
    },
    {
      "cell_type": "code",
      "source": [
        "print(X_train.shape, y_train.shape)"
      ],
      "metadata": {
        "colab": {
          "base_uri": "https://localhost:8080/"
        },
        "id": "oqxtqoit2gtz",
        "outputId": "f42e7f07-af0f-4364-e4ba-02408934f4ae"
      },
      "execution_count": 183,
      "outputs": [
        {
          "output_type": "stream",
          "name": "stdout",
          "text": [
            "(1157, 21) (1157, 4)\n"
          ]
        }
      ]
    },
    {
      "cell_type": "code",
      "source": [
        "clf_tree = DecisionTreeClassifier()\n",
        "params = {'max_depth': range(1, 10 + 1),\n",
        "          'min_samples_split': range(1, 10 + 1),\n",
        "          'criterion': ['gini', 'entropy']}\n",
        "\n",
        "grid = GridSearchCV(clf_tree, params, cv=3)"
      ],
      "metadata": {
        "id": "6tuEnsaUy-nZ"
      },
      "execution_count": 184,
      "outputs": []
    },
    {
      "cell_type": "code",
      "source": [
        "grid.fit(X_train, y_train)"
      ],
      "metadata": {
        "colab": {
          "base_uri": "https://localhost:8080/",
          "height": 1000
        },
        "id": "WJyg-yWR0SwM",
        "outputId": "251096b2-ff77-4f8b-b874-686d5bfa532d"
      },
      "execution_count": 185,
      "outputs": [
        {
          "output_type": "stream",
          "name": "stderr",
          "text": [
            "/usr/local/lib/python3.10/dist-packages/sklearn/model_selection/_validation.py:378: FitFailedWarning: \n",
            "60 fits failed out of a total of 600.\n",
            "The score on these train-test partitions for these parameters will be set to nan.\n",
            "If these failures are not expected, you can try to debug them by setting error_score='raise'.\n",
            "\n",
            "Below are more details about the failures:\n",
            "--------------------------------------------------------------------------------\n",
            "60 fits failed with the following error:\n",
            "Traceback (most recent call last):\n",
            "  File \"/usr/local/lib/python3.10/dist-packages/sklearn/model_selection/_validation.py\", line 686, in _fit_and_score\n",
            "    estimator.fit(X_train, y_train, **fit_params)\n",
            "  File \"/usr/local/lib/python3.10/dist-packages/sklearn/tree/_classes.py\", line 889, in fit\n",
            "    super().fit(\n",
            "  File \"/usr/local/lib/python3.10/dist-packages/sklearn/tree/_classes.py\", line 177, in fit\n",
            "    self._validate_params()\n",
            "  File \"/usr/local/lib/python3.10/dist-packages/sklearn/base.py\", line 600, in _validate_params\n",
            "    validate_parameter_constraints(\n",
            "  File \"/usr/local/lib/python3.10/dist-packages/sklearn/utils/_param_validation.py\", line 97, in validate_parameter_constraints\n",
            "    raise InvalidParameterError(\n",
            "sklearn.utils._param_validation.InvalidParameterError: The 'min_samples_split' parameter of DecisionTreeClassifier must be an int in the range [2, inf) or a float in the range (0.0, 1.0]. Got 1 instead.\n",
            "\n",
            "  warnings.warn(some_fits_failed_message, FitFailedWarning)\n",
            "/usr/local/lib/python3.10/dist-packages/sklearn/model_selection/_search.py:952: UserWarning: One or more of the test scores are non-finite: [       nan 0.70269161 0.70269161 0.70269161 0.70269161 0.70269161\n",
            " 0.70269161 0.70269161 0.70269161 0.70269161        nan 0.6335038\n",
            " 0.6335038  0.6335038  0.6335038  0.6335038  0.6335038  0.6335038\n",
            " 0.6335038  0.6335038         nan 0.79516408 0.79516408 0.79516408\n",
            " 0.79516408 0.79516408 0.79516408 0.79516408 0.79516408 0.79516408\n",
            "        nan 0.7718525  0.7718525  0.7718525  0.7718525  0.7718525\n",
            " 0.7718525  0.7718525  0.7718525  0.7718525         nan 0.83837337\n",
            " 0.83837337 0.83837337 0.83837337 0.83837337 0.83837337 0.83837337\n",
            " 0.83837337 0.83837337        nan 0.86087522 0.86087522 0.86087522\n",
            " 0.86087522 0.86087522 0.86087522 0.86087522 0.86087522 0.86087522\n",
            "        nan 0.89716035 0.89716035 0.89716035 0.89716035 0.89716035\n",
            " 0.89716035 0.89716035 0.89456968 0.89456968        nan 0.93258865\n",
            " 0.93258641 0.93345221 0.93604737 0.93691317 0.93777673 0.93777449\n",
            " 0.92998901 0.92998901        nan 0.94123321 0.93691093 0.9395016\n",
            " 0.94123545 0.94382612 0.94469417 0.94296481 0.93086154 0.93086154\n",
            "        nan 0.93518381 0.93258641 0.93344548 0.94122872 0.94209676\n",
            " 0.94641904 0.94555548 0.93086154 0.93086154        nan 0.70269161\n",
            " 0.70269161 0.70269161 0.70269161 0.70269161 0.70269161 0.70269161\n",
            " 0.70269161 0.70269161        nan 0.6335038  0.6335038  0.6335038\n",
            " 0.6335038  0.6335038  0.6335038  0.6335038  0.6335038  0.6335038\n",
            "        nan 0.77186371 0.77186371 0.77186371 0.77186371 0.77186371\n",
            " 0.77186371 0.77186371 0.77186371 0.77186371        nan 0.71228495\n",
            " 0.71228495 0.71228495 0.71228495 0.71228495 0.71228495 0.71228495\n",
            " 0.71228495 0.71228495        nan 0.83755916 0.83755916 0.83755916\n",
            " 0.83755916 0.83755916 0.83755916 0.83755916 0.83755916 0.83755916\n",
            "        nan 0.8375143  0.8375143  0.8375143  0.8375143  0.8375143\n",
            " 0.8375143  0.8375143  0.8375143  0.83492363        nan 0.89111769\n",
            " 0.89111769 0.89111769 0.89111769 0.89111769 0.89284481 0.89284481\n",
            " 0.89284481 0.89111769        nan 0.90145795 0.90145795 0.90145795\n",
            " 0.90318956 0.90318956 0.90318956 0.90405311 0.90405311 0.902326\n",
            "        nan 0.92049212 0.91962856 0.92049212 0.92222372 0.92136016\n",
            " 0.92653926 0.92653926 0.92653926 0.92826862        nan 0.93431801\n",
            " 0.93605186 0.93691542 0.93691317 0.93432474 0.92827535 0.93172958\n",
            " 0.93172958 0.93345894]\n",
            "  warnings.warn(\n"
          ]
        },
        {
          "output_type": "execute_result",
          "data": {
            "text/plain": [
              "GridSearchCV(cv=3, estimator=DecisionTreeClassifier(),\n",
              "             param_grid={'criterion': ['gini', 'entropy'],\n",
              "                         'max_depth': range(1, 11),\n",
              "                         'min_samples_split': range(1, 11)})"
            ],
            "text/html": [
              "<style>#sk-container-id-6 {color: black;background-color: white;}#sk-container-id-6 pre{padding: 0;}#sk-container-id-6 div.sk-toggleable {background-color: white;}#sk-container-id-6 label.sk-toggleable__label {cursor: pointer;display: block;width: 100%;margin-bottom: 0;padding: 0.3em;box-sizing: border-box;text-align: center;}#sk-container-id-6 label.sk-toggleable__label-arrow:before {content: \"▸\";float: left;margin-right: 0.25em;color: #696969;}#sk-container-id-6 label.sk-toggleable__label-arrow:hover:before {color: black;}#sk-container-id-6 div.sk-estimator:hover label.sk-toggleable__label-arrow:before {color: black;}#sk-container-id-6 div.sk-toggleable__content {max-height: 0;max-width: 0;overflow: hidden;text-align: left;background-color: #f0f8ff;}#sk-container-id-6 div.sk-toggleable__content pre {margin: 0.2em;color: black;border-radius: 0.25em;background-color: #f0f8ff;}#sk-container-id-6 input.sk-toggleable__control:checked~div.sk-toggleable__content {max-height: 200px;max-width: 100%;overflow: auto;}#sk-container-id-6 input.sk-toggleable__control:checked~label.sk-toggleable__label-arrow:before {content: \"▾\";}#sk-container-id-6 div.sk-estimator input.sk-toggleable__control:checked~label.sk-toggleable__label {background-color: #d4ebff;}#sk-container-id-6 div.sk-label input.sk-toggleable__control:checked~label.sk-toggleable__label {background-color: #d4ebff;}#sk-container-id-6 input.sk-hidden--visually {border: 0;clip: rect(1px 1px 1px 1px);clip: rect(1px, 1px, 1px, 1px);height: 1px;margin: -1px;overflow: hidden;padding: 0;position: absolute;width: 1px;}#sk-container-id-6 div.sk-estimator {font-family: monospace;background-color: #f0f8ff;border: 1px dotted black;border-radius: 0.25em;box-sizing: border-box;margin-bottom: 0.5em;}#sk-container-id-6 div.sk-estimator:hover {background-color: #d4ebff;}#sk-container-id-6 div.sk-parallel-item::after {content: \"\";width: 100%;border-bottom: 1px solid gray;flex-grow: 1;}#sk-container-id-6 div.sk-label:hover label.sk-toggleable__label {background-color: #d4ebff;}#sk-container-id-6 div.sk-serial::before {content: \"\";position: absolute;border-left: 1px solid gray;box-sizing: border-box;top: 0;bottom: 0;left: 50%;z-index: 0;}#sk-container-id-6 div.sk-serial {display: flex;flex-direction: column;align-items: center;background-color: white;padding-right: 0.2em;padding-left: 0.2em;position: relative;}#sk-container-id-6 div.sk-item {position: relative;z-index: 1;}#sk-container-id-6 div.sk-parallel {display: flex;align-items: stretch;justify-content: center;background-color: white;position: relative;}#sk-container-id-6 div.sk-item::before, #sk-container-id-6 div.sk-parallel-item::before {content: \"\";position: absolute;border-left: 1px solid gray;box-sizing: border-box;top: 0;bottom: 0;left: 50%;z-index: -1;}#sk-container-id-6 div.sk-parallel-item {display: flex;flex-direction: column;z-index: 1;position: relative;background-color: white;}#sk-container-id-6 div.sk-parallel-item:first-child::after {align-self: flex-end;width: 50%;}#sk-container-id-6 div.sk-parallel-item:last-child::after {align-self: flex-start;width: 50%;}#sk-container-id-6 div.sk-parallel-item:only-child::after {width: 0;}#sk-container-id-6 div.sk-dashed-wrapped {border: 1px dashed gray;margin: 0 0.4em 0.5em 0.4em;box-sizing: border-box;padding-bottom: 0.4em;background-color: white;}#sk-container-id-6 div.sk-label label {font-family: monospace;font-weight: bold;display: inline-block;line-height: 1.2em;}#sk-container-id-6 div.sk-label-container {text-align: center;}#sk-container-id-6 div.sk-container {/* jupyter's `normalize.less` sets `[hidden] { display: none; }` but bootstrap.min.css set `[hidden] { display: none !important; }` so we also need the `!important` here to be able to override the default hidden behavior on the sphinx rendered scikit-learn.org. See: https://github.com/scikit-learn/scikit-learn/issues/21755 */display: inline-block !important;position: relative;}#sk-container-id-6 div.sk-text-repr-fallback {display: none;}</style><div id=\"sk-container-id-6\" class=\"sk-top-container\"><div class=\"sk-text-repr-fallback\"><pre>GridSearchCV(cv=3, estimator=DecisionTreeClassifier(),\n",
              "             param_grid={&#x27;criterion&#x27;: [&#x27;gini&#x27;, &#x27;entropy&#x27;],\n",
              "                         &#x27;max_depth&#x27;: range(1, 11),\n",
              "                         &#x27;min_samples_split&#x27;: range(1, 11)})</pre><b>In a Jupyter environment, please rerun this cell to show the HTML representation or trust the notebook. <br />On GitHub, the HTML representation is unable to render, please try loading this page with nbviewer.org.</b></div><div class=\"sk-container\" hidden><div class=\"sk-item sk-dashed-wrapped\"><div class=\"sk-label-container\"><div class=\"sk-label sk-toggleable\"><input class=\"sk-toggleable__control sk-hidden--visually\" id=\"sk-estimator-id-10\" type=\"checkbox\" ><label for=\"sk-estimator-id-10\" class=\"sk-toggleable__label sk-toggleable__label-arrow\">GridSearchCV</label><div class=\"sk-toggleable__content\"><pre>GridSearchCV(cv=3, estimator=DecisionTreeClassifier(),\n",
              "             param_grid={&#x27;criterion&#x27;: [&#x27;gini&#x27;, &#x27;entropy&#x27;],\n",
              "                         &#x27;max_depth&#x27;: range(1, 11),\n",
              "                         &#x27;min_samples_split&#x27;: range(1, 11)})</pre></div></div></div><div class=\"sk-parallel\"><div class=\"sk-parallel-item\"><div class=\"sk-item\"><div class=\"sk-label-container\"><div class=\"sk-label sk-toggleable\"><input class=\"sk-toggleable__control sk-hidden--visually\" id=\"sk-estimator-id-11\" type=\"checkbox\" ><label for=\"sk-estimator-id-11\" class=\"sk-toggleable__label sk-toggleable__label-arrow\">estimator: DecisionTreeClassifier</label><div class=\"sk-toggleable__content\"><pre>DecisionTreeClassifier()</pre></div></div></div><div class=\"sk-serial\"><div class=\"sk-item\"><div class=\"sk-estimator sk-toggleable\"><input class=\"sk-toggleable__control sk-hidden--visually\" id=\"sk-estimator-id-12\" type=\"checkbox\" ><label for=\"sk-estimator-id-12\" class=\"sk-toggleable__label sk-toggleable__label-arrow\">DecisionTreeClassifier</label><div class=\"sk-toggleable__content\"><pre>DecisionTreeClassifier()</pre></div></div></div></div></div></div></div></div></div></div>"
            ]
          },
          "metadata": {},
          "execution_count": 185
        }
      ]
    },
    {
      "cell_type": "code",
      "source": [
        "grid.best_params_"
      ],
      "metadata": {
        "colab": {
          "base_uri": "https://localhost:8080/"
        },
        "id": "nKrIe_hF7OTY",
        "outputId": "01db4735-5fec-4d63-f97d-73a22d8824cb"
      },
      "execution_count": 186,
      "outputs": [
        {
          "output_type": "execute_result",
          "data": {
            "text/plain": [
              "{'criterion': 'gini', 'max_depth': 10, 'min_samples_split': 7}"
            ]
          },
          "metadata": {},
          "execution_count": 186
        }
      ]
    },
    {
      "cell_type": "code",
      "source": [
        "best_clf = grid.best_estimator_"
      ],
      "metadata": {
        "id": "jq22nZhd3Ccy"
      },
      "execution_count": 187,
      "outputs": []
    },
    {
      "cell_type": "code",
      "source": [
        "best_clf.fit(X_train, y_train)"
      ],
      "metadata": {
        "colab": {
          "base_uri": "https://localhost:8080/",
          "height": 75
        },
        "id": "SjpP8zdo3GBv",
        "outputId": "0c7de216-ab72-455b-8517-2c8df504741c"
      },
      "execution_count": 188,
      "outputs": [
        {
          "output_type": "execute_result",
          "data": {
            "text/plain": [
              "DecisionTreeClassifier(max_depth=10, min_samples_split=7)"
            ],
            "text/html": [
              "<style>#sk-container-id-7 {color: black;background-color: white;}#sk-container-id-7 pre{padding: 0;}#sk-container-id-7 div.sk-toggleable {background-color: white;}#sk-container-id-7 label.sk-toggleable__label {cursor: pointer;display: block;width: 100%;margin-bottom: 0;padding: 0.3em;box-sizing: border-box;text-align: center;}#sk-container-id-7 label.sk-toggleable__label-arrow:before {content: \"▸\";float: left;margin-right: 0.25em;color: #696969;}#sk-container-id-7 label.sk-toggleable__label-arrow:hover:before {color: black;}#sk-container-id-7 div.sk-estimator:hover label.sk-toggleable__label-arrow:before {color: black;}#sk-container-id-7 div.sk-toggleable__content {max-height: 0;max-width: 0;overflow: hidden;text-align: left;background-color: #f0f8ff;}#sk-container-id-7 div.sk-toggleable__content pre {margin: 0.2em;color: black;border-radius: 0.25em;background-color: #f0f8ff;}#sk-container-id-7 input.sk-toggleable__control:checked~div.sk-toggleable__content {max-height: 200px;max-width: 100%;overflow: auto;}#sk-container-id-7 input.sk-toggleable__control:checked~label.sk-toggleable__label-arrow:before {content: \"▾\";}#sk-container-id-7 div.sk-estimator input.sk-toggleable__control:checked~label.sk-toggleable__label {background-color: #d4ebff;}#sk-container-id-7 div.sk-label input.sk-toggleable__control:checked~label.sk-toggleable__label {background-color: #d4ebff;}#sk-container-id-7 input.sk-hidden--visually {border: 0;clip: rect(1px 1px 1px 1px);clip: rect(1px, 1px, 1px, 1px);height: 1px;margin: -1px;overflow: hidden;padding: 0;position: absolute;width: 1px;}#sk-container-id-7 div.sk-estimator {font-family: monospace;background-color: #f0f8ff;border: 1px dotted black;border-radius: 0.25em;box-sizing: border-box;margin-bottom: 0.5em;}#sk-container-id-7 div.sk-estimator:hover {background-color: #d4ebff;}#sk-container-id-7 div.sk-parallel-item::after {content: \"\";width: 100%;border-bottom: 1px solid gray;flex-grow: 1;}#sk-container-id-7 div.sk-label:hover label.sk-toggleable__label {background-color: #d4ebff;}#sk-container-id-7 div.sk-serial::before {content: \"\";position: absolute;border-left: 1px solid gray;box-sizing: border-box;top: 0;bottom: 0;left: 50%;z-index: 0;}#sk-container-id-7 div.sk-serial {display: flex;flex-direction: column;align-items: center;background-color: white;padding-right: 0.2em;padding-left: 0.2em;position: relative;}#sk-container-id-7 div.sk-item {position: relative;z-index: 1;}#sk-container-id-7 div.sk-parallel {display: flex;align-items: stretch;justify-content: center;background-color: white;position: relative;}#sk-container-id-7 div.sk-item::before, #sk-container-id-7 div.sk-parallel-item::before {content: \"\";position: absolute;border-left: 1px solid gray;box-sizing: border-box;top: 0;bottom: 0;left: 50%;z-index: -1;}#sk-container-id-7 div.sk-parallel-item {display: flex;flex-direction: column;z-index: 1;position: relative;background-color: white;}#sk-container-id-7 div.sk-parallel-item:first-child::after {align-self: flex-end;width: 50%;}#sk-container-id-7 div.sk-parallel-item:last-child::after {align-self: flex-start;width: 50%;}#sk-container-id-7 div.sk-parallel-item:only-child::after {width: 0;}#sk-container-id-7 div.sk-dashed-wrapped {border: 1px dashed gray;margin: 0 0.4em 0.5em 0.4em;box-sizing: border-box;padding-bottom: 0.4em;background-color: white;}#sk-container-id-7 div.sk-label label {font-family: monospace;font-weight: bold;display: inline-block;line-height: 1.2em;}#sk-container-id-7 div.sk-label-container {text-align: center;}#sk-container-id-7 div.sk-container {/* jupyter's `normalize.less` sets `[hidden] { display: none; }` but bootstrap.min.css set `[hidden] { display: none !important; }` so we also need the `!important` here to be able to override the default hidden behavior on the sphinx rendered scikit-learn.org. See: https://github.com/scikit-learn/scikit-learn/issues/21755 */display: inline-block !important;position: relative;}#sk-container-id-7 div.sk-text-repr-fallback {display: none;}</style><div id=\"sk-container-id-7\" class=\"sk-top-container\"><div class=\"sk-text-repr-fallback\"><pre>DecisionTreeClassifier(max_depth=10, min_samples_split=7)</pre><b>In a Jupyter environment, please rerun this cell to show the HTML representation or trust the notebook. <br />On GitHub, the HTML representation is unable to render, please try loading this page with nbviewer.org.</b></div><div class=\"sk-container\" hidden><div class=\"sk-item\"><div class=\"sk-estimator sk-toggleable\"><input class=\"sk-toggleable__control sk-hidden--visually\" id=\"sk-estimator-id-13\" type=\"checkbox\" checked><label for=\"sk-estimator-id-13\" class=\"sk-toggleable__label sk-toggleable__label-arrow\">DecisionTreeClassifier</label><div class=\"sk-toggleable__content\"><pre>DecisionTreeClassifier(max_depth=10, min_samples_split=7)</pre></div></div></div></div></div>"
            ]
          },
          "metadata": {},
          "execution_count": 188
        }
      ]
    },
    {
      "cell_type": "code",
      "source": [
        "imp = pd.DataFrame(best_clf.feature_importances_, index=X_train.columns, columns=['importance'])\n",
        "imp.sort_values('importance').plot(kind='barh', figsize=(12, 8))"
      ],
      "metadata": {
        "colab": {
          "base_uri": "https://localhost:8080/",
          "height": 693
        },
        "id": "HlKk5-WN3NUs",
        "outputId": "a453643d-8cca-4e50-9db1-eb723cacb9c9"
      },
      "execution_count": 189,
      "outputs": [
        {
          "output_type": "execute_result",
          "data": {
            "text/plain": [
              "<Axes: >"
            ]
          },
          "metadata": {},
          "execution_count": 189
        },
        {
          "output_type": "display_data",
          "data": {
            "text/plain": [
              "<Figure size 1200x800 with 1 Axes>"
            ],
            "image/png": "[encoded data removed]"
          },
          "metadata": {}
        }
      ]
    },
    {
      "cell_type": "code",
      "source": [
        "from sklearn.metrics import precision_score, recall_score"
      ],
      "metadata": {
        "id": "5uZfOzf63fwm"
      },
      "execution_count": 190,
      "outputs": []
    },
    {
      "cell_type": "code",
      "source": [
        "X_test.shape"
      ],
      "metadata": {
        "colab": {
          "base_uri": "https://localhost:8080/"
        },
        "id": "vnyYp_Ey4-Sp",
        "outputId": "702d1190-ed3a-4797-b76f-44d45f677d06"
      },
      "execution_count": 191,
      "outputs": [
        {
          "output_type": "execute_result",
          "data": {
            "text/plain": [
              "(570, 21)"
            ]
          },
          "metadata": {},
          "execution_count": 191
        }
      ]
    },
    {
      "cell_type": "code",
      "source": [
        "y_pred = best_clf.predict(X_test)\n",
        "print(y_pred.shape, y_test.shape)"
      ],
      "metadata": {
        "colab": {
          "base_uri": "https://localhost:8080/"
        },
        "id": "TUCbJFHd3Wnf",
        "outputId": "63667890-db5f-4426-89af-13ee03a257ef"
      },
      "execution_count": 192,
      "outputs": [
        {
          "output_type": "stream",
          "name": "stdout",
          "text": [
            "(570, 4) (570, 4)\n"
          ]
        }
      ]
    },
    {
      "cell_type": "code",
      "source": [
        "from sklearn.metrics import accuracy_score"
      ],
      "metadata": {
        "id": "atWdfwP66bbY"
      },
      "execution_count": 193,
      "outputs": []
    },
    {
      "cell_type": "code",
      "source": [
        "accuracy_score(y_test, y_pred)"
      ],
      "metadata": {
        "colab": {
          "base_uri": "https://localhost:8080/"
        },
        "id": "85sGfMZb6cHA",
        "outputId": "bfa8d6fa-acc4-4a66-c177-a04078293939"
      },
      "execution_count": 194,
      "outputs": [
        {
          "output_type": "execute_result",
          "data": {
            "text/plain": [
              "0.9508771929824561"
            ]
          },
          "metadata": {},
          "execution_count": 194
        }
      ]
    },
    {
      "cell_type": "code",
      "source": [
        "y_pred = best_clf.predict(X_train)\n",
        "accuracy_score(y_train, y_pred)"
      ],
      "metadata": {
        "colab": {
          "base_uri": "https://localhost:8080/"
        },
        "id": "9CkQPy5T6oJY",
        "outputId": "bfdb7174-8017-4b61-c8e9-e7bec3c838bd"
      },
      "execution_count": 195,
      "outputs": [
        {
          "output_type": "execute_result",
          "data": {
            "text/plain": [
              "0.975799481417459"
            ]
          },
          "metadata": {},
          "execution_count": 195
        }
      ]
    },
    {
      "cell_type": "code",
      "source": [
        "from sklearn.tree import DecisionTreeClassifier\n",
        "# instantiate the DecisionTreeClassifier model with criterion gini index\n",
        "\n",
        "clf_gini = DecisionTreeClassifier(criterion='gini', max_depth=10, min_samples_split=7, random_state=0)\n",
        "\n",
        "\n",
        "# fit the model\n",
        "clf_gini.fit(X_train, y_train)"
      ],
      "metadata": {
        "colab": {
          "base_uri": "https://localhost:8080/",
          "height": 75
        },
        "id": "UnZHFxjs7BXg",
        "outputId": "c3b8621f-b039-4cfa-ac3e-9bc5b8ac0faf"
      },
      "execution_count": 199,
      "outputs": [
        {
          "output_type": "execute_result",
          "data": {
            "text/plain": [
              "DecisionTreeClassifier(max_depth=10, min_samples_split=7, random_state=0)"
            ],
            "text/html": [
              "<style>#sk-container-id-9 {color: black;background-color: white;}#sk-container-id-9 pre{padding: 0;}#sk-container-id-9 div.sk-toggleable {background-color: white;}#sk-container-id-9 label.sk-toggleable__label {cursor: pointer;display: block;width: 100%;margin-bottom: 0;padding: 0.3em;box-sizing: border-box;text-align: center;}#sk-container-id-9 label.sk-toggleable__label-arrow:before {content: \"▸\";float: left;margin-right: 0.25em;color: #696969;}#sk-container-id-9 label.sk-toggleable__label-arrow:hover:before {color: black;}#sk-container-id-9 div.sk-estimator:hover label.sk-toggleable__label-arrow:before {color: black;}#sk-container-id-9 div.sk-toggleable__content {max-height: 0;max-width: 0;overflow: hidden;text-align: left;background-color: #f0f8ff;}#sk-container-id-9 div.sk-toggleable__content pre {margin: 0.2em;color: black;border-radius: 0.25em;background-color: #f0f8ff;}#sk-container-id-9 input.sk-toggleable__control:checked~div.sk-toggleable__content {max-height: 200px;max-width: 100%;overflow: auto;}#sk-container-id-9 input.sk-toggleable__control:checked~label.sk-toggleable__label-arrow:before {content: \"▾\";}#sk-container-id-9 div.sk-estimator input.sk-toggleable__control:checked~label.sk-toggleable__label {background-color: #d4ebff;}#sk-container-id-9 div.sk-label input.sk-toggleable__control:checked~label.sk-toggleable__label {background-color: #d4ebff;}#sk-container-id-9 input.sk-hidden--visually {border: 0;clip: rect(1px 1px 1px 1px);clip: rect(1px, 1px, 1px, 1px);height: 1px;margin: -1px;overflow: hidden;padding: 0;position: absolute;width: 1px;}#sk-container-id-9 div.sk-estimator {font-family: monospace;background-color: #f0f8ff;border: 1px dotted black;border-radius: 0.25em;box-sizing: border-box;margin-bottom: 0.5em;}#sk-container-id-9 div.sk-estimator:hover {background-color: #d4ebff;}#sk-container-id-9 div.sk-parallel-item::after {content: \"\";width: 100%;border-bottom: 1px solid gray;flex-grow: 1;}#sk-container-id-9 div.sk-label:hover label.sk-toggleable__label {background-color: #d4ebff;}#sk-container-id-9 div.sk-serial::before {content: \"\";position: absolute;border-left: 1px solid gray;box-sizing: border-box;top: 0;bottom: 0;left: 50%;z-index: 0;}#sk-container-id-9 div.sk-serial {display: flex;flex-direction: column;align-items: center;background-color: white;padding-right: 0.2em;padding-left: 0.2em;position: relative;}#sk-container-id-9 div.sk-item {position: relative;z-index: 1;}#sk-container-id-9 div.sk-parallel {display: flex;align-items: stretch;justify-content: center;background-color: white;position: relative;}#sk-container-id-9 div.sk-item::before, #sk-container-id-9 div.sk-parallel-item::before {content: \"\";position: absolute;border-left: 1px solid gray;box-sizing: border-box;top: 0;bottom: 0;left: 50%;z-index: -1;}#sk-container-id-9 div.sk-parallel-item {display: flex;flex-direction: column;z-index: 1;position: relative;background-color: white;}#sk-container-id-9 div.sk-parallel-item:first-child::after {align-self: flex-end;width: 50%;}#sk-container-id-9 div.sk-parallel-item:last-child::after {align-self: flex-start;width: 50%;}#sk-container-id-9 div.sk-parallel-item:only-child::after {width: 0;}#sk-container-id-9 div.sk-dashed-wrapped {border: 1px dashed gray;margin: 0 0.4em 0.5em 0.4em;box-sizing: border-box;padding-bottom: 0.4em;background-color: white;}#sk-container-id-9 div.sk-label label {font-family: monospace;font-weight: bold;display: inline-block;line-height: 1.2em;}#sk-container-id-9 div.sk-label-container {text-align: center;}#sk-container-id-9 div.sk-container {/* jupyter's `normalize.less` sets `[hidden] { display: none; }` but bootstrap.min.css set `[hidden] { display: none !important; }` so we also need the `!important` here to be able to override the default hidden behavior on the sphinx rendered scikit-learn.org. See: https://github.com/scikit-learn/scikit-learn/issues/21755 */display: inline-block !important;position: relative;}#sk-container-id-9 div.sk-text-repr-fallback {display: none;}</style><div id=\"sk-container-id-9\" class=\"sk-top-container\"><div class=\"sk-text-repr-fallback\"><pre>DecisionTreeClassifier(max_depth=10, min_samples_split=7, random_state=0)</pre><b>In a Jupyter environment, please rerun this cell to show the HTML representation or trust the notebook. <br />On GitHub, the HTML representation is unable to render, please try loading this page with nbviewer.org.</b></div><div class=\"sk-container\" hidden><div class=\"sk-item\"><div class=\"sk-estimator sk-toggleable\"><input class=\"sk-toggleable__control sk-hidden--visually\" id=\"sk-estimator-id-15\" type=\"checkbox\" checked><label for=\"sk-estimator-id-15\" class=\"sk-toggleable__label sk-toggleable__label-arrow\">DecisionTreeClassifier</label><div class=\"sk-toggleable__content\"><pre>DecisionTreeClassifier(max_depth=10, min_samples_split=7, random_state=0)</pre></div></div></div></div></div>"
            ]
          },
          "metadata": {},
          "execution_count": 199
        }
      ]
    },
    {
      "cell_type": "code",
      "source": [
        "y_pred = clf_gini.predict(X_test)"
      ],
      "metadata": {
        "id": "6qfXv-Ej7GTP"
      },
      "execution_count": 200,
      "outputs": []
    },
    {
      "cell_type": "code",
      "source": [
        "accuracy_score(y_test, y_pred)"
      ],
      "metadata": {
        "colab": {
          "base_uri": "https://localhost:8080/"
        },
        "id": "Nt8B6YKE7J3b",
        "outputId": "4ca62046-d895-4e5d-a762-1c8ae1643bd8"
      },
      "execution_count": 201,
      "outputs": [
        {
          "output_type": "execute_result",
          "data": {
            "text/plain": [
              "0.9508771929824561"
            ]
          },
          "metadata": {},
          "execution_count": 201
        }
      ]
    },
    {
      "cell_type": "markdown",
      "source": [
        "[FireShip made a new video about AI:](https://www.youtube.com/watch?v=dQw4w9WgXcQ)"
      ],
      "metadata": {
        "id": "QvdI6PZb8Akv"
      }
    },
    {
      "cell_type": "markdown",
      "source": [
        "# **YOUR CAR IS NOT SAFE.**\n",
        "# **GIVE IT TO ME FOR FREE**\n",
        "(like a mister beast)\n",
        "\n",
        "![e9048645da7bcb909c298743c921a9bd.jpg](data:image/jpeg;base64,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)"
      ],
      "metadata": {
        "id": "uQ2FnSwV8WQ_"
      }
    }
  ]
}