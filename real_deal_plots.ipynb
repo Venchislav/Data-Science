{
  "nbformat": 4,
  "nbformat_minor": 0,
  "metadata": {
    "colab": {
      "provenance": [],
      "authorship_tag": "ABX9TyMZYZlA57r138U17xgXMPSj",
      "include_colab_link": true
    },
    "kernelspec": {
      "name": "python3",
      "display_name": "Python 3"
    },
    "language_info": {
      "name": "python"
    }
  },
  "cells": [
    {
      "cell_type": "markdown",
      "metadata": {
        "id": "view-in-github",
        "colab_type": "text"
      },
      "source": [
        "<a href=\"https://colab.research.google.com/github/Venchislav/Data-Science/blob/main/real_deal_plots.ipynb\" target=\"_parent\"><img src=\"https://colab.research.google.com/assets/colab-badge.svg\" alt=\"Open In Colab\"/></a>"
      ]
    },
    {
      "cell_type": "code",
      "execution_count": 4,
      "metadata": {
        "id": "xu5Xi4AndRLp"
      },
      "outputs": [],
      "source": [
        "import pandas as pd\n",
        "import numpy as np\n",
        "import seaborn as sns\n",
        "import matplotlib.pyplot as plt"
      ]
    },
    {
      "cell_type": "code",
      "source": [
        "df = pd.read_csv('/content/sample_data/mlcourse_open_first_survey_parsed.csv', index_col='id')\n",
        "df.head()"
      ],
      "metadata": {
        "colab": {
          "base_uri": "https://localhost:8080/",
          "height": 726
        },
        "id": "D07kIpS1d4Qn",
        "outputId": "622075e9-4783-440c-a823-de23af192e42"
      },
      "execution_count": 5,
      "outputs": [
        {
          "output_type": "execute_result",
          "data": {
            "text/plain": [
              "                       Timestamp  \\\n",
              "id                                 \n",
              "0   2016/12/05 10:39:59 am GMT+3   \n",
              "1   2016/12/05 10:44:27 am GMT+3   \n",
              "2   2016/12/05 10:47:07 am GMT+3   \n",
              "3   2016/12/05 10:47:22 am GMT+3   \n",
              "5   2016/12/05 10:58:34 am GMT+3   \n",
              "\n",
              "                           Представьтесь в 2-3 фразах  \\\n",
              "id                                                      \n",
              "0                                    крутой Developer   \n",
              "1   Разработчик Navision. Изучаю тему DS для возмо...   \n",
              "2   Я Software Engeneer разработчик, активно интер...   \n",
              "3   Семилетний инженер. Специализируюсь в компьюте...   \n",
              "5                          программист. pl/sql python   \n",
              "\n",
              "   Работали ли Вы с Jupyter notebooks?  \\\n",
              "id                                       \n",
              "0                                   Да   \n",
              "1                                   Да   \n",
              "2                                   Да   \n",
              "3                                   Да   \n",
              "5                                   Да   \n",
              "\n",
              "                               Что Вы ждете от курса?  \\\n",
              "id                                                      \n",
              "0   Ребята, вижу ваш настрой, уверен курс будет ин...   \n",
              "1   Практики, подкрепленной теорией. Хочется упоря...   \n",
              "2     Побольше практики на реальных данных (задачах).   \n",
              "3        Глубокого разбора алгоритмов и инструментов.   \n",
              "5                                  Упорядочить знания   \n",
              "\n",
              "   Потом мы прямо этот же набор данных поанализируем с Pandas. Так что какой Ваш любимый вид спорта?  \\\n",
              "id                                                                                                     \n",
              "0                                           Starcraft                                                  \n",
              "1                                                 NaN                                                  \n",
              "2                                          basketball                                                  \n",
              "3                                                 NaN                                                  \n",
              "5                                              футбол                                                  \n",
              "\n",
              "   Ладно, посерьезней: согласны ли Вы на обработку персональных данных?  \\\n",
              "id                                                                        \n",
              "0                                                  Да                     \n",
              "1                                                  Да                     \n",
              "2                                                  Да                     \n",
              "3                                                  Да                     \n",
              "5                                                  Да                     \n",
              "\n",
              "    Какие оцениваете свой уровень математической подготовки? (матан, линал, теорвер)  \\\n",
              "id                                                                                     \n",
              "0                                                   4                                  \n",
              "1                                                   1                                  \n",
              "2                                                   3                                  \n",
              "3                                                   3                                  \n",
              "5                                                   3                                  \n",
              "\n",
              "   Чему равна дисперсия равномерного на [0,6] распределения?  \\\n",
              "id                                                             \n",
              "0                                                   3          \n",
              "1                                                   3          \n",
              "2                                                   3          \n",
              "3                                                 0.5          \n",
              "5                                                   3          \n",
              "\n",
              "   Найдите минимум функции 3x^4-8x^3+6x^2-12 на отрезке [-3,3]  \\\n",
              "id                                                               \n",
              "0                                                 -12            \n",
              "1                                                 NaN            \n",
              "2                                                 NaN            \n",
              "3                                                 -12            \n",
              "5                                                 -12            \n",
              "\n",
              "    Сколько параметров у нормального распределения?  \\\n",
              "id                                                    \n",
              "0                                               2.0   \n",
              "1                                               2.0   \n",
              "2                                               2.0   \n",
              "3                                               2.0   \n",
              "5                                               2.0   \n",
              "\n",
              "   Сможете написать на Python генератор чисел Фибоначчи?  \\\n",
              "id                                                         \n",
              "0                                                  Да      \n",
              "1                                     Да, но фиговый.      \n",
              "2                                                  Да      \n",
              "3                                                  Да      \n",
              "5                                                  Да      \n",
              "\n",
              "   Хорошо, а готовы к началу курса (6 сентября 2017) освоить азы Python? На уровне Code Academy, DataCamp или github.com/Yorko/python_intro  \\\n",
              "id                                                                                                                                            \n",
              "0                                                  Да                                                                                         \n",
              "1                                                  Да                                                                                         \n",
              "2                                                  Да                                                                                         \n",
              "3                                                  Да                                                                                         \n",
              "5                                            уже знаю                                                                                         \n",
              "\n",
              "        Оцените свой уровень владения GitHub  \\\n",
              "id                                             \n",
              "0                                       Проф   \n",
              "1                     Могу скачать материалы   \n",
              "2                                       Проф   \n",
              "3   Пользуюсь ветками, могу что-то смерджить   \n",
              "5   Пользуюсь ветками, могу что-то смерджить   \n",
              "\n",
              "   Посоветуйте хороший фильм в стиле \"Игра в имитацию\" :)  \n",
              "id                                                         \n",
              "0   Прочитай книгу Лема \"Голос Неба\", очень много ...      \n",
              "1                                                 NaN      \n",
              "2                                                 NaN      \n",
              "3                                      Король говорит      \n",
              "5                                                 NaN      "
            ],
            "text/html": [
              "\n",
              "  <div id=\"df-3cbd0e6e-4ecd-4886-ad34-f56132fcb7fc\" class=\"colab-df-container\">\n",
              "    <div>\n",
              "<style scoped>\n",
              "    .dataframe tbody tr th:only-of-type {\n",
              "        vertical-align: middle;\n",
              "    }\n",
              "\n",
              "    .dataframe tbody tr th {\n",
              "        vertical-align: top;\n",
              "    }\n",
              "\n",
              "    .dataframe thead th {\n",
              "        text-align: right;\n",
              "    }\n",
              "</style>\n",
              "<table border=\"1\" class=\"dataframe\">\n",
              "  <thead>\n",
              "    <tr style=\"text-align: right;\">\n",
              "      <th></th>\n",
              "      <th>Timestamp</th>\n",
              "      <th>Представьтесь в 2-3 фразах</th>\n",
              "      <th>Работали ли Вы с Jupyter notebooks?</th>\n",
              "      <th>Что Вы ждете от курса?</th>\n",
              "      <th>Потом мы прямо этот же набор данных поанализируем с Pandas. Так что какой Ваш любимый вид спорта?</th>\n",
              "      <th>Ладно, посерьезней: согласны ли Вы на обработку персональных данных?</th>\n",
              "      <th>Какие оцениваете свой уровень математической подготовки? (матан, линал, теорвер)</th>\n",
              "      <th>Чему равна дисперсия равномерного на [0,6] распределения?</th>\n",
              "      <th>Найдите минимум функции 3x^4-8x^3+6x^2-12 на отрезке [-3,3]</th>\n",
              "      <th>Сколько параметров у нормального распределения?</th>\n",
              "      <th>Сможете написать на Python генератор чисел Фибоначчи?</th>\n",
              "      <th>Хорошо, а готовы к началу курса (6 сентября 2017) освоить азы Python? На уровне Code Academy, DataCamp или github.com/Yorko/python_intro</th>\n",
              "      <th>Оцените свой уровень владения GitHub</th>\n",
              "      <th>Посоветуйте хороший фильм в стиле \"Игра в имитацию\" :)</th>\n",
              "    </tr>\n",
              "    <tr>\n",
              "      <th>id</th>\n",
              "      <th></th>\n",
              "      <th></th>\n",
              "      <th></th>\n",
              "      <th></th>\n",
              "      <th></th>\n",
              "      <th></th>\n",
              "      <th></th>\n",
              "      <th></th>\n",
              "      <th></th>\n",
              "      <th></th>\n",
              "      <th></th>\n",
              "      <th></th>\n",
              "      <th></th>\n",
              "      <th></th>\n",
              "    </tr>\n",
              "  </thead>\n",
              "  <tbody>\n",
              "    <tr>\n",
              "      <th>0</th>\n",
              "      <td>2016/12/05 10:39:59 am GMT+3</td>\n",
              "      <td>крутой Developer</td>\n",
              "      <td>Да</td>\n",
              "      <td>Ребята, вижу ваш настрой, уверен курс будет ин...</td>\n",
              "      <td>Starcraft</td>\n",
              "      <td>Да</td>\n",
              "      <td>4</td>\n",
              "      <td>3</td>\n",
              "      <td>-12</td>\n",
              "      <td>2.0</td>\n",
              "      <td>Да</td>\n",
              "      <td>Да</td>\n",
              "      <td>Проф</td>\n",
              "      <td>Прочитай книгу Лема \"Голос Неба\", очень много ...</td>\n",
              "    </tr>\n",
              "    <tr>\n",
              "      <th>1</th>\n",
              "      <td>2016/12/05 10:44:27 am GMT+3</td>\n",
              "      <td>Разработчик Navision. Изучаю тему DS для возмо...</td>\n",
              "      <td>Да</td>\n",
              "      <td>Практики, подкрепленной теорией. Хочется упоря...</td>\n",
              "      <td>NaN</td>\n",
              "      <td>Да</td>\n",
              "      <td>1</td>\n",
              "      <td>3</td>\n",
              "      <td>NaN</td>\n",
              "      <td>2.0</td>\n",
              "      <td>Да, но фиговый.</td>\n",
              "      <td>Да</td>\n",
              "      <td>Могу скачать материалы</td>\n",
              "      <td>NaN</td>\n",
              "    </tr>\n",
              "    <tr>\n",
              "      <th>2</th>\n",
              "      <td>2016/12/05 10:47:07 am GMT+3</td>\n",
              "      <td>Я Software Engeneer разработчик, активно интер...</td>\n",
              "      <td>Да</td>\n",
              "      <td>Побольше практики на реальных данных (задачах).</td>\n",
              "      <td>basketball</td>\n",
              "      <td>Да</td>\n",
              "      <td>3</td>\n",
              "      <td>3</td>\n",
              "      <td>NaN</td>\n",
              "      <td>2.0</td>\n",
              "      <td>Да</td>\n",
              "      <td>Да</td>\n",
              "      <td>Проф</td>\n",
              "      <td>NaN</td>\n",
              "    </tr>\n",
              "    <tr>\n",
              "      <th>3</th>\n",
              "      <td>2016/12/05 10:47:22 am GMT+3</td>\n",
              "      <td>Семилетний инженер. Специализируюсь в компьюте...</td>\n",
              "      <td>Да</td>\n",
              "      <td>Глубокого разбора алгоритмов и инструментов.</td>\n",
              "      <td>NaN</td>\n",
              "      <td>Да</td>\n",
              "      <td>3</td>\n",
              "      <td>0.5</td>\n",
              "      <td>-12</td>\n",
              "      <td>2.0</td>\n",
              "      <td>Да</td>\n",
              "      <td>Да</td>\n",
              "      <td>Пользуюсь ветками, могу что-то смерджить</td>\n",
              "      <td>Король говорит</td>\n",
              "    </tr>\n",
              "    <tr>\n",
              "      <th>5</th>\n",
              "      <td>2016/12/05 10:58:34 am GMT+3</td>\n",
              "      <td>программист. pl/sql python</td>\n",
              "      <td>Да</td>\n",
              "      <td>Упорядочить знания</td>\n",
              "      <td>футбол</td>\n",
              "      <td>Да</td>\n",
              "      <td>3</td>\n",
              "      <td>3</td>\n",
              "      <td>-12</td>\n",
              "      <td>2.0</td>\n",
              "      <td>Да</td>\n",
              "      <td>уже знаю</td>\n",
              "      <td>Пользуюсь ветками, могу что-то смерджить</td>\n",
              "      <td>NaN</td>\n",
              "    </tr>\n",
              "  </tbody>\n",
              "</table>\n",
              "</div>\n",
              "    <div class=\"colab-df-buttons\">\n",
              "\n",
              "  <div class=\"colab-df-container\">\n",
              "    <button class=\"colab-df-convert\" onclick=\"convertToInteractive('df-3cbd0e6e-4ecd-4886-ad34-f56132fcb7fc')\"\n",
              "            title=\"Convert this dataframe to an interactive table.\"\n",
              "            style=\"display:none;\">\n",
              "\n",
              "  <svg xmlns=\"http://www.w3.org/2000/svg\" height=\"24px\" viewBox=\"0 -960 960 960\">\n",
              "    <path d=\"M120-120v-720h720v720H120Zm60-500h600v-160H180v160Zm220 220h160v-160H400v160Zm0 220h160v-160H400v160ZM180-400h160v-160H180v160Zm440 0h160v-160H620v160ZM180-180h160v-160H180v160Zm440 0h160v-160H620v160Z\"/>\n",
              "  </svg>\n",
              "    </button>\n",
              "\n",
              "  <style>\n",
              "    .colab-df-container {\n",
              "      display:flex;\n",
              "      gap: 12px;\n",
              "    }\n",
              "\n",
              "    .colab-df-convert {\n",
              "      background-color: #E8F0FE;\n",
              "      border: none;\n",
              "      border-radius: 50%;\n",
              "      cursor: pointer;\n",
              "      display: none;\n",
              "      fill: #1967D2;\n",
              "      height: 32px;\n",
              "      padding: 0 0 0 0;\n",
              "      width: 32px;\n",
              "    }\n",
              "\n",
              "    .colab-df-convert:hover {\n",
              "      background-color: #E2EBFA;\n",
              "      box-shadow: 0px 1px 2px rgba(60, 64, 67, 0.3), 0px 1px 3px 1px rgba(60, 64, 67, 0.15);\n",
              "      fill: #174EA6;\n",
              "    }\n",
              "\n",
              "    .colab-df-buttons div {\n",
              "      margin-bottom: 4px;\n",
              "    }\n",
              "\n",
              "    [theme=dark] .colab-df-convert {\n",
              "      background-color: #3B4455;\n",
              "      fill: #D2E3FC;\n",
              "    }\n",
              "\n",
              "    [theme=dark] .colab-df-convert:hover {\n",
              "      background-color: #434B5C;\n",
              "      box-shadow: 0px 1px 3px 1px rgba(0, 0, 0, 0.15);\n",
              "      filter: drop-shadow(0px 1px 2px rgba(0, 0, 0, 0.3));\n",
              "      fill: #FFFFFF;\n",
              "    }\n",
              "  </style>\n",
              "\n",
              "    <script>\n",
              "      const buttonEl =\n",
              "        document.querySelector('#df-3cbd0e6e-4ecd-4886-ad34-f56132fcb7fc button.colab-df-convert');\n",
              "      buttonEl.style.display =\n",
              "        google.colab.kernel.accessAllowed ? 'block' : 'none';\n",
              "\n",
              "      async function convertToInteractive(key) {\n",
              "        const element = document.querySelector('#df-3cbd0e6e-4ecd-4886-ad34-f56132fcb7fc');\n",
              "        const dataTable =\n",
              "          await google.colab.kernel.invokeFunction('convertToInteractive',\n",
              "                                                    [key], {});\n",
              "        if (!dataTable) return;\n",
              "\n",
              "        const docLinkHtml = 'Like what you see? Visit the ' +\n",
              "          '<a target=\"_blank\" href=https://colab.research.google.com/notebooks/data_table.ipynb>data table notebook</a>'\n",
              "          + ' to learn more about interactive tables.';\n",
              "        element.innerHTML = '';\n",
              "        dataTable['output_type'] = 'display_data';\n",
              "        await google.colab.output.renderOutput(dataTable, element);\n",
              "        const docLink = document.createElement('div');\n",
              "        docLink.innerHTML = docLinkHtml;\n",
              "        element.appendChild(docLink);\n",
              "      }\n",
              "    </script>\n",
              "  </div>\n",
              "\n",
              "\n",
              "<div id=\"df-08c1ca37-d4f8-4ba8-b7bf-02aff1725339\">\n",
              "  <button class=\"colab-df-quickchart\" onclick=\"quickchart('df-08c1ca37-d4f8-4ba8-b7bf-02aff1725339')\"\n",
              "            title=\"Suggest charts.\"\n",
              "            style=\"display:none;\">\n",
              "\n",
              "<svg xmlns=\"http://www.w3.org/2000/svg\" height=\"24px\"viewBox=\"0 0 24 24\"\n",
              "     width=\"24px\">\n",
              "    <g>\n",
              "        <path d=\"M19 3H5c-1.1 0-2 .9-2 2v14c0 1.1.9 2 2 2h14c1.1 0 2-.9 2-2V5c0-1.1-.9-2-2-2zM9 17H7v-7h2v7zm4 0h-2V7h2v10zm4 0h-2v-4h2v4z\"/>\n",
              "    </g>\n",
              "</svg>\n",
              "  </button>\n",
              "\n",
              "<style>\n",
              "  .colab-df-quickchart {\n",
              "      --bg-color: #E8F0FE;\n",
              "      --fill-color: #1967D2;\n",
              "      --hover-bg-color: #E2EBFA;\n",
              "      --hover-fill-color: #174EA6;\n",
              "      --disabled-fill-color: #AAA;\n",
              "      --disabled-bg-color: #DDD;\n",
              "  }\n",
              "\n",
              "  [theme=dark] .colab-df-quickchart {\n",
              "      --bg-color: #3B4455;\n",
              "      --fill-color: #D2E3FC;\n",
              "      --hover-bg-color: #434B5C;\n",
              "      --hover-fill-color: #FFFFFF;\n",
              "      --disabled-bg-color: #3B4455;\n",
              "      --disabled-fill-color: #666;\n",
              "  }\n",
              "\n",
              "  .colab-df-quickchart {\n",
              "    background-color: var(--bg-color);\n",
              "    border: none;\n",
              "    border-radius: 50%;\n",
              "    cursor: pointer;\n",
              "    display: none;\n",
              "    fill: var(--fill-color);\n",
              "    height: 32px;\n",
              "    padding: 0;\n",
              "    width: 32px;\n",
              "  }\n",
              "\n",
              "  .colab-df-quickchart:hover {\n",
              "    background-color: var(--hover-bg-color);\n",
              "    box-shadow: 0 1px 2px rgba(60, 64, 67, 0.3), 0 1px 3px 1px rgba(60, 64, 67, 0.15);\n",
              "    fill: var(--button-hover-fill-color);\n",
              "  }\n",
              "\n",
              "  .colab-df-quickchart-complete:disabled,\n",
              "  .colab-df-quickchart-complete:disabled:hover {\n",
              "    background-color: var(--disabled-bg-color);\n",
              "    fill: var(--disabled-fill-color);\n",
              "    box-shadow: none;\n",
              "  }\n",
              "\n",
              "  .colab-df-spinner {\n",
              "    border: 2px solid var(--fill-color);\n",
              "    border-color: transparent;\n",
              "    border-bottom-color: var(--fill-color);\n",
              "    animation:\n",
              "      spin 1s steps(1) infinite;\n",
              "  }\n",
              "\n",
              "  @keyframes spin {\n",
              "    0% {\n",
              "      border-color: transparent;\n",
              "      border-bottom-color: var(--fill-color);\n",
              "      border-left-color: var(--fill-color);\n",
              "    }\n",
              "    20% {\n",
              "      border-color: transparent;\n",
              "      border-left-color: var(--fill-color);\n",
              "      border-top-color: var(--fill-color);\n",
              "    }\n",
              "    30% {\n",
              "      border-color: transparent;\n",
              "      border-left-color: var(--fill-color);\n",
              "      border-top-color: var(--fill-color);\n",
              "      border-right-color: var(--fill-color);\n",
              "    }\n",
              "    40% {\n",
              "      border-color: transparent;\n",
              "      border-right-color: var(--fill-color);\n",
              "      border-top-color: var(--fill-color);\n",
              "    }\n",
              "    60% {\n",
              "      border-color: transparent;\n",
              "      border-right-color: var(--fill-color);\n",
              "    }\n",
              "    80% {\n",
              "      border-color: transparent;\n",
              "      border-right-color: var(--fill-color);\n",
              "      border-bottom-color: var(--fill-color);\n",
              "    }\n",
              "    90% {\n",
              "      border-color: transparent;\n",
              "      border-bottom-color: var(--fill-color);\n",
              "    }\n",
              "  }\n",
              "</style>\n",
              "\n",
              "  <script>\n",
              "    async function quickchart(key) {\n",
              "      const quickchartButtonEl =\n",
              "        document.querySelector('#' + key + ' button');\n",
              "      quickchartButtonEl.disabled = true;  // To prevent multiple clicks.\n",
              "      quickchartButtonEl.classList.add('colab-df-spinner');\n",
              "      try {\n",
              "        const charts = await google.colab.kernel.invokeFunction(\n",
              "            'suggestCharts', [key], {});\n",
              "      } catch (error) {\n",
              "        console.error('Error during call to suggestCharts:', error);\n",
              "      }\n",
              "      quickchartButtonEl.classList.remove('colab-df-spinner');\n",
              "      quickchartButtonEl.classList.add('colab-df-quickchart-complete');\n",
              "    }\n",
              "    (() => {\n",
              "      let quickchartButtonEl =\n",
              "        document.querySelector('#df-08c1ca37-d4f8-4ba8-b7bf-02aff1725339 button');\n",
              "      quickchartButtonEl.style.display =\n",
              "        google.colab.kernel.accessAllowed ? 'block' : 'none';\n",
              "    })();\n",
              "  </script>\n",
              "</div>\n",
              "    </div>\n",
              "  </div>\n"
            ]
          },
          "metadata": {},
          "execution_count": 5
        }
      ]
    },
    {
      "cell_type": "code",
      "source": [
        "df.info()"
      ],
      "metadata": {
        "colab": {
          "base_uri": "https://localhost:8080/"
        },
        "id": "ONGwT3ZufORE",
        "outputId": "95b83ccd-050c-471e-de49-843c096e65d8"
      },
      "execution_count": 6,
      "outputs": [
        {
          "output_type": "stream",
          "name": "stdout",
          "text": [
            "<class 'pandas.core.frame.DataFrame'>\n",
            "Int64Index: 2944 entries, 0 to 3215\n",
            "Data columns (total 14 columns):\n",
            " #   Column                                                                                                                                    Non-Null Count  Dtype  \n",
            "---  ------                                                                                                                                    --------------  -----  \n",
            " 0   Timestamp                                                                                                                                 2944 non-null   object \n",
            " 1   Представьтесь в 2-3 фразах                                                                                                                2944 non-null   object \n",
            " 2   Работали ли Вы с Jupyter notebooks?                                                                                                       2931 non-null   object \n",
            " 3   Что Вы ждете от курса?                                                                                                                    2944 non-null   object \n",
            " 4   Потом мы прямо этот же набор данных поанализируем с Pandas. Так что какой Ваш любимый вид спорта?                                         2638 non-null   object \n",
            " 5   Ладно, посерьезней: согласны ли Вы на обработку персональных данных?                                                                      2944 non-null   object \n",
            " 6   Какие оцениваете свой уровень математической подготовки? (матан, линал, теорвер)                                                          2944 non-null   int64  \n",
            " 7   Чему равна дисперсия равномерного на [0,6] распределения?                                                                                 2689 non-null   object \n",
            " 8   Найдите минимум функции 3x^4-8x^3+6x^2-12 на отрезке [-3,3]                                                                               2623 non-null   object \n",
            " 9   Сколько параметров у нормального распределения?                                                                                           2725 non-null   float64\n",
            " 10  Сможете написать на Python генератор чисел Фибоначчи?                                                                                     2944 non-null   object \n",
            " 11  Хорошо, а готовы к началу курса (6 сентября 2017) освоить азы Python? На уровне Code Academy, DataCamp или github.com/Yorko/python_intro  2944 non-null   object \n",
            " 12  Оцените свой уровень владения GitHub                                                                                                      2910 non-null   object \n",
            " 13  Посоветуйте хороший фильм в стиле \"Игра в имитацию\" :)                                                                                    2086 non-null   object \n",
            "dtypes: float64(1), int64(1), object(12)\n",
            "memory usage: 345.0+ KB\n"
          ]
        }
      ]
    },
    {
      "cell_type": "code",
      "source": [
        "df.shape"
      ],
      "metadata": {
        "colab": {
          "base_uri": "https://localhost:8080/"
        },
        "id": "j_KcY8bXfV92",
        "outputId": "d02e7037-e83d-4b4d-b4bb-0caf866dc8f3"
      },
      "execution_count": 7,
      "outputs": [
        {
          "output_type": "execute_result",
          "data": {
            "text/plain": [
              "(2944, 14)"
            ]
          },
          "metadata": {},
          "execution_count": 7
        }
      ]
    },
    {
      "cell_type": "code",
      "source": [
        "col_names_for_rename = dict(zip(df.columns,\n",
        "                        ['time', 'intro', 'jupyter', 'expect', 'sport',\n",
        "                         'personal', 'math_level',\n",
        "                         'question_1', 'question_2', 'question_3', 'fib_gen',\n",
        "                         'python', 'github', 'movie']))\n",
        "\n",
        "df.rename(columns=col_names_for_rename, inplace=True)"
      ],
      "metadata": {
        "id": "Tq81n6sJfYKD"
      },
      "execution_count": 8,
      "outputs": []
    },
    {
      "cell_type": "code",
      "source": [
        "df.head()"
      ],
      "metadata": {
        "colab": {
          "base_uri": "https://localhost:8080/",
          "height": 639
        },
        "id": "_WTMSjjNgT_H",
        "outputId": "2afa967b-483a-443e-a9e5-4700b9e66b37"
      },
      "execution_count": 9,
      "outputs": [
        {
          "output_type": "execute_result",
          "data": {
            "text/plain": [
              "                            time  \\\n",
              "id                                 \n",
              "0   2016/12/05 10:39:59 am GMT+3   \n",
              "1   2016/12/05 10:44:27 am GMT+3   \n",
              "2   2016/12/05 10:47:07 am GMT+3   \n",
              "3   2016/12/05 10:47:22 am GMT+3   \n",
              "5   2016/12/05 10:58:34 am GMT+3   \n",
              "\n",
              "                                                intro jupyter  \\\n",
              "id                                                              \n",
              "0                                    крутой Developer      Да   \n",
              "1   Разработчик Navision. Изучаю тему DS для возмо...      Да   \n",
              "2   Я Software Engeneer разработчик, активно интер...      Да   \n",
              "3   Семилетний инженер. Специализируюсь в компьюте...      Да   \n",
              "5                          программист. pl/sql python      Да   \n",
              "\n",
              "                                               expect       sport personal  \\\n",
              "id                                                                           \n",
              "0   Ребята, вижу ваш настрой, уверен курс будет ин...   Starcraft       Да   \n",
              "1   Практики, подкрепленной теорией. Хочется упоря...         NaN       Да   \n",
              "2     Побольше практики на реальных данных (задачах).  basketball       Да   \n",
              "3        Глубокого разбора алгоритмов и инструментов.         NaN       Да   \n",
              "5                                  Упорядочить знания      футбол       Да   \n",
              "\n",
              "    math_level question_1 question_2  question_3          fib_gen    python  \\\n",
              "id                                                                            \n",
              "0            4          3        -12         2.0               Да        Да   \n",
              "1            1          3        NaN         2.0  Да, но фиговый.        Да   \n",
              "2            3          3        NaN         2.0               Да        Да   \n",
              "3            3        0.5        -12         2.0               Да        Да   \n",
              "5            3          3        -12         2.0               Да  уже знаю   \n",
              "\n",
              "                                      github  \\\n",
              "id                                             \n",
              "0                                       Проф   \n",
              "1                     Могу скачать материалы   \n",
              "2                                       Проф   \n",
              "3   Пользуюсь ветками, могу что-то смерджить   \n",
              "5   Пользуюсь ветками, могу что-то смерджить   \n",
              "\n",
              "                                                movie  \n",
              "id                                                     \n",
              "0   Прочитай книгу Лема \"Голос Неба\", очень много ...  \n",
              "1                                                 NaN  \n",
              "2                                                 NaN  \n",
              "3                                      Король говорит  \n",
              "5                                                 NaN  "
            ],
            "text/html": [
              "\n",
              "  <div id=\"df-81b3d047-b19d-4556-9542-681d48d94944\" class=\"colab-df-container\">\n",
              "    <div>\n",
              "<style scoped>\n",
              "    .dataframe tbody tr th:only-of-type {\n",
              "        vertical-align: middle;\n",
              "    }\n",
              "\n",
              "    .dataframe tbody tr th {\n",
              "        vertical-align: top;\n",
              "    }\n",
              "\n",
              "    .dataframe thead th {\n",
              "        text-align: right;\n",
              "    }\n",
              "</style>\n",
              "<table border=\"1\" class=\"dataframe\">\n",
              "  <thead>\n",
              "    <tr style=\"text-align: right;\">\n",
              "      <th></th>\n",
              "      <th>time</th>\n",
              "      <th>intro</th>\n",
              "      <th>jupyter</th>\n",
              "      <th>expect</th>\n",
              "      <th>sport</th>\n",
              "      <th>personal</th>\n",
              "      <th>math_level</th>\n",
              "      <th>question_1</th>\n",
              "      <th>question_2</th>\n",
              "      <th>question_3</th>\n",
              "      <th>fib_gen</th>\n",
              "      <th>python</th>\n",
              "      <th>github</th>\n",
              "      <th>movie</th>\n",
              "    </tr>\n",
              "    <tr>\n",
              "      <th>id</th>\n",
              "      <th></th>\n",
              "      <th></th>\n",
              "      <th></th>\n",
              "      <th></th>\n",
              "      <th></th>\n",
              "      <th></th>\n",
              "      <th></th>\n",
              "      <th></th>\n",
              "      <th></th>\n",
              "      <th></th>\n",
              "      <th></th>\n",
              "      <th></th>\n",
              "      <th></th>\n",
              "      <th></th>\n",
              "    </tr>\n",
              "  </thead>\n",
              "  <tbody>\n",
              "    <tr>\n",
              "      <th>0</th>\n",
              "      <td>2016/12/05 10:39:59 am GMT+3</td>\n",
              "      <td>крутой Developer</td>\n",
              "      <td>Да</td>\n",
              "      <td>Ребята, вижу ваш настрой, уверен курс будет ин...</td>\n",
              "      <td>Starcraft</td>\n",
              "      <td>Да</td>\n",
              "      <td>4</td>\n",
              "      <td>3</td>\n",
              "      <td>-12</td>\n",
              "      <td>2.0</td>\n",
              "      <td>Да</td>\n",
              "      <td>Да</td>\n",
              "      <td>Проф</td>\n",
              "      <td>Прочитай книгу Лема \"Голос Неба\", очень много ...</td>\n",
              "    </tr>\n",
              "    <tr>\n",
              "      <th>1</th>\n",
              "      <td>2016/12/05 10:44:27 am GMT+3</td>\n",
              "      <td>Разработчик Navision. Изучаю тему DS для возмо...</td>\n",
              "      <td>Да</td>\n",
              "      <td>Практики, подкрепленной теорией. Хочется упоря...</td>\n",
              "      <td>NaN</td>\n",
              "      <td>Да</td>\n",
              "      <td>1</td>\n",
              "      <td>3</td>\n",
              "      <td>NaN</td>\n",
              "      <td>2.0</td>\n",
              "      <td>Да, но фиговый.</td>\n",
              "      <td>Да</td>\n",
              "      <td>Могу скачать материалы</td>\n",
              "      <td>NaN</td>\n",
              "    </tr>\n",
              "    <tr>\n",
              "      <th>2</th>\n",
              "      <td>2016/12/05 10:47:07 am GMT+3</td>\n",
              "      <td>Я Software Engeneer разработчик, активно интер...</td>\n",
              "      <td>Да</td>\n",
              "      <td>Побольше практики на реальных данных (задачах).</td>\n",
              "      <td>basketball</td>\n",
              "      <td>Да</td>\n",
              "      <td>3</td>\n",
              "      <td>3</td>\n",
              "      <td>NaN</td>\n",
              "      <td>2.0</td>\n",
              "      <td>Да</td>\n",
              "      <td>Да</td>\n",
              "      <td>Проф</td>\n",
              "      <td>NaN</td>\n",
              "    </tr>\n",
              "    <tr>\n",
              "      <th>3</th>\n",
              "      <td>2016/12/05 10:47:22 am GMT+3</td>\n",
              "      <td>Семилетний инженер. Специализируюсь в компьюте...</td>\n",
              "      <td>Да</td>\n",
              "      <td>Глубокого разбора алгоритмов и инструментов.</td>\n",
              "      <td>NaN</td>\n",
              "      <td>Да</td>\n",
              "      <td>3</td>\n",
              "      <td>0.5</td>\n",
              "      <td>-12</td>\n",
              "      <td>2.0</td>\n",
              "      <td>Да</td>\n",
              "      <td>Да</td>\n",
              "      <td>Пользуюсь ветками, могу что-то смерджить</td>\n",
              "      <td>Король говорит</td>\n",
              "    </tr>\n",
              "    <tr>\n",
              "      <th>5</th>\n",
              "      <td>2016/12/05 10:58:34 am GMT+3</td>\n",
              "      <td>программист. pl/sql python</td>\n",
              "      <td>Да</td>\n",
              "      <td>Упорядочить знания</td>\n",
              "      <td>футбол</td>\n",
              "      <td>Да</td>\n",
              "      <td>3</td>\n",
              "      <td>3</td>\n",
              "      <td>-12</td>\n",
              "      <td>2.0</td>\n",
              "      <td>Да</td>\n",
              "      <td>уже знаю</td>\n",
              "      <td>Пользуюсь ветками, могу что-то смерджить</td>\n",
              "      <td>NaN</td>\n",
              "    </tr>\n",
              "  </tbody>\n",
              "</table>\n",
              "</div>\n",
              "    <div class=\"colab-df-buttons\">\n",
              "\n",
              "  <div class=\"colab-df-container\">\n",
              "    <button class=\"colab-df-convert\" onclick=\"convertToInteractive('df-81b3d047-b19d-4556-9542-681d48d94944')\"\n",
              "            title=\"Convert this dataframe to an interactive table.\"\n",
              "            style=\"display:none;\">\n",
              "\n",
              "  <svg xmlns=\"http://www.w3.org/2000/svg\" height=\"24px\" viewBox=\"0 -960 960 960\">\n",
              "    <path d=\"M120-120v-720h720v720H120Zm60-500h600v-160H180v160Zm220 220h160v-160H400v160Zm0 220h160v-160H400v160ZM180-400h160v-160H180v160Zm440 0h160v-160H620v160ZM180-180h160v-160H180v160Zm440 0h160v-160H620v160Z\"/>\n",
              "  </svg>\n",
              "    </button>\n",
              "\n",
              "  <style>\n",
              "    .colab-df-container {\n",
              "      display:flex;\n",
              "      gap: 12px;\n",
              "    }\n",
              "\n",
              "    .colab-df-convert {\n",
              "      background-color: #E8F0FE;\n",
              "      border: none;\n",
              "      border-radius: 50%;\n",
              "      cursor: pointer;\n",
              "      display: none;\n",
              "      fill: #1967D2;\n",
              "      height: 32px;\n",
              "      padding: 0 0 0 0;\n",
              "      width: 32px;\n",
              "    }\n",
              "\n",
              "    .colab-df-convert:hover {\n",
              "      background-color: #E2EBFA;\n",
              "      box-shadow: 0px 1px 2px rgba(60, 64, 67, 0.3), 0px 1px 3px 1px rgba(60, 64, 67, 0.15);\n",
              "      fill: #174EA6;\n",
              "    }\n",
              "\n",
              "    .colab-df-buttons div {\n",
              "      margin-bottom: 4px;\n",
              "    }\n",
              "\n",
              "    [theme=dark] .colab-df-convert {\n",
              "      background-color: #3B4455;\n",
              "      fill: #D2E3FC;\n",
              "    }\n",
              "\n",
              "    [theme=dark] .colab-df-convert:hover {\n",
              "      background-color: #434B5C;\n",
              "      box-shadow: 0px 1px 3px 1px rgba(0, 0, 0, 0.15);\n",
              "      filter: drop-shadow(0px 1px 2px rgba(0, 0, 0, 0.3));\n",
              "      fill: #FFFFFF;\n",
              "    }\n",
              "  </style>\n",
              "\n",
              "    <script>\n",
              "      const buttonEl =\n",
              "        document.querySelector('#df-81b3d047-b19d-4556-9542-681d48d94944 button.colab-df-convert');\n",
              "      buttonEl.style.display =\n",
              "        google.colab.kernel.accessAllowed ? 'block' : 'none';\n",
              "\n",
              "      async function convertToInteractive(key) {\n",
              "        const element = document.querySelector('#df-81b3d047-b19d-4556-9542-681d48d94944');\n",
              "        const dataTable =\n",
              "          await google.colab.kernel.invokeFunction('convertToInteractive',\n",
              "                                                    [key], {});\n",
              "        if (!dataTable) return;\n",
              "\n",
              "        const docLinkHtml = 'Like what you see? Visit the ' +\n",
              "          '<a target=\"_blank\" href=https://colab.research.google.com/notebooks/data_table.ipynb>data table notebook</a>'\n",
              "          + ' to learn more about interactive tables.';\n",
              "        element.innerHTML = '';\n",
              "        dataTable['output_type'] = 'display_data';\n",
              "        await google.colab.output.renderOutput(dataTable, element);\n",
              "        const docLink = document.createElement('div');\n",
              "        docLink.innerHTML = docLinkHtml;\n",
              "        element.appendChild(docLink);\n",
              "      }\n",
              "    </script>\n",
              "  </div>\n",
              "\n",
              "\n",
              "<div id=\"df-d1a6aae5-008d-48d6-97a4-8d59c728540e\">\n",
              "  <button class=\"colab-df-quickchart\" onclick=\"quickchart('df-d1a6aae5-008d-48d6-97a4-8d59c728540e')\"\n",
              "            title=\"Suggest charts.\"\n",
              "            style=\"display:none;\">\n",
              "\n",
              "<svg xmlns=\"http://www.w3.org/2000/svg\" height=\"24px\"viewBox=\"0 0 24 24\"\n",
              "     width=\"24px\">\n",
              "    <g>\n",
              "        <path d=\"M19 3H5c-1.1 0-2 .9-2 2v14c0 1.1.9 2 2 2h14c1.1 0 2-.9 2-2V5c0-1.1-.9-2-2-2zM9 17H7v-7h2v7zm4 0h-2V7h2v10zm4 0h-2v-4h2v4z\"/>\n",
              "    </g>\n",
              "</svg>\n",
              "  </button>\n",
              "\n",
              "<style>\n",
              "  .colab-df-quickchart {\n",
              "      --bg-color: #E8F0FE;\n",
              "      --fill-color: #1967D2;\n",
              "      --hover-bg-color: #E2EBFA;\n",
              "      --hover-fill-color: #174EA6;\n",
              "      --disabled-fill-color: #AAA;\n",
              "      --disabled-bg-color: #DDD;\n",
              "  }\n",
              "\n",
              "  [theme=dark] .colab-df-quickchart {\n",
              "      --bg-color: #3B4455;\n",
              "      --fill-color: #D2E3FC;\n",
              "      --hover-bg-color: #434B5C;\n",
              "      --hover-fill-color: #FFFFFF;\n",
              "      --disabled-bg-color: #3B4455;\n",
              "      --disabled-fill-color: #666;\n",
              "  }\n",
              "\n",
              "  .colab-df-quickchart {\n",
              "    background-color: var(--bg-color);\n",
              "    border: none;\n",
              "    border-radius: 50%;\n",
              "    cursor: pointer;\n",
              "    display: none;\n",
              "    fill: var(--fill-color);\n",
              "    height: 32px;\n",
              "    padding: 0;\n",
              "    width: 32px;\n",
              "  }\n",
              "\n",
              "  .colab-df-quickchart:hover {\n",
              "    background-color: var(--hover-bg-color);\n",
              "    box-shadow: 0 1px 2px rgba(60, 64, 67, 0.3), 0 1px 3px 1px rgba(60, 64, 67, 0.15);\n",
              "    fill: var(--button-hover-fill-color);\n",
              "  }\n",
              "\n",
              "  .colab-df-quickchart-complete:disabled,\n",
              "  .colab-df-quickchart-complete:disabled:hover {\n",
              "    background-color: var(--disabled-bg-color);\n",
              "    fill: var(--disabled-fill-color);\n",
              "    box-shadow: none;\n",
              "  }\n",
              "\n",
              "  .colab-df-spinner {\n",
              "    border: 2px solid var(--fill-color);\n",
              "    border-color: transparent;\n",
              "    border-bottom-color: var(--fill-color);\n",
              "    animation:\n",
              "      spin 1s steps(1) infinite;\n",
              "  }\n",
              "\n",
              "  @keyframes spin {\n",
              "    0% {\n",
              "      border-color: transparent;\n",
              "      border-bottom-color: var(--fill-color);\n",
              "      border-left-color: var(--fill-color);\n",
              "    }\n",
              "    20% {\n",
              "      border-color: transparent;\n",
              "      border-left-color: var(--fill-color);\n",
              "      border-top-color: var(--fill-color);\n",
              "    }\n",
              "    30% {\n",
              "      border-color: transparent;\n",
              "      border-left-color: var(--fill-color);\n",
              "      border-top-color: var(--fill-color);\n",
              "      border-right-color: var(--fill-color);\n",
              "    }\n",
              "    40% {\n",
              "      border-color: transparent;\n",
              "      border-right-color: var(--fill-color);\n",
              "      border-top-color: var(--fill-color);\n",
              "    }\n",
              "    60% {\n",
              "      border-color: transparent;\n",
              "      border-right-color: var(--fill-color);\n",
              "    }\n",
              "    80% {\n",
              "      border-color: transparent;\n",
              "      border-right-color: var(--fill-color);\n",
              "      border-bottom-color: var(--fill-color);\n",
              "    }\n",
              "    90% {\n",
              "      border-color: transparent;\n",
              "      border-bottom-color: var(--fill-color);\n",
              "    }\n",
              "  }\n",
              "</style>\n",
              "\n",
              "  <script>\n",
              "    async function quickchart(key) {\n",
              "      const quickchartButtonEl =\n",
              "        document.querySelector('#' + key + ' button');\n",
              "      quickchartButtonEl.disabled = true;  // To prevent multiple clicks.\n",
              "      quickchartButtonEl.classList.add('colab-df-spinner');\n",
              "      try {\n",
              "        const charts = await google.colab.kernel.invokeFunction(\n",
              "            'suggestCharts', [key], {});\n",
              "      } catch (error) {\n",
              "        console.error('Error during call to suggestCharts:', error);\n",
              "      }\n",
              "      quickchartButtonEl.classList.remove('colab-df-spinner');\n",
              "      quickchartButtonEl.classList.add('colab-df-quickchart-complete');\n",
              "    }\n",
              "    (() => {\n",
              "      let quickchartButtonEl =\n",
              "        document.querySelector('#df-d1a6aae5-008d-48d6-97a4-8d59c728540e button');\n",
              "      quickchartButtonEl.style.display =\n",
              "        google.colab.kernel.accessAllowed ? 'block' : 'none';\n",
              "    })();\n",
              "  </script>\n",
              "</div>\n",
              "    </div>\n",
              "  </div>\n"
            ]
          },
          "metadata": {},
          "execution_count": 9
        }
      ]
    },
    {
      "cell_type": "code",
      "source": [
        "df['jupyter'].value_counts().head()"
      ],
      "metadata": {
        "colab": {
          "base_uri": "https://localhost:8080/"
        },
        "id": "NTmZV7iOhA64",
        "outputId": "6b56d8c0-6a59-44c2-bded-32777bc3d87a"
      },
      "execution_count": 10,
      "outputs": [
        {
          "output_type": "execute_result",
          "data": {
            "text/plain": [
              "Да                                                              2071\n",
              "Нет                                                              766\n",
              "немного                                                            7\n",
              "Немного                                                            3\n",
              "Немного,  недавно начал проходить курс от яндекса на курсоре       2\n",
              "Name: jupyter, dtype: int64"
            ]
          },
          "metadata": {},
          "execution_count": 10
        }
      ]
    },
    {
      "cell_type": "code",
      "source": [
        "jp = df['jupyter'].map({'Да': 1, 'Нет': 0}).fillna(2)"
      ],
      "metadata": {
        "id": "_wzhlLk-iBAh"
      },
      "execution_count": 11,
      "outputs": []
    },
    {
      "cell_type": "code",
      "source": [
        "jp"
      ],
      "metadata": {
        "colab": {
          "base_uri": "https://localhost:8080/"
        },
        "id": "jyGe-3QljhZ-",
        "outputId": "49891e5d-2ec2-4e46-e5cd-60b18aff1396"
      },
      "execution_count": 12,
      "outputs": [
        {
          "output_type": "execute_result",
          "data": {
            "text/plain": [
              "id\n",
              "0       1.0\n",
              "1       1.0\n",
              "2       1.0\n",
              "3       1.0\n",
              "5       1.0\n",
              "       ... \n",
              "3210    1.0\n",
              "3212    1.0\n",
              "3213    1.0\n",
              "3214    1.0\n",
              "3215    1.0\n",
              "Name: jupyter, Length: 2944, dtype: float64"
            ]
          },
          "metadata": {},
          "execution_count": 12
        }
      ]
    },
    {
      "cell_type": "code",
      "source": [
        "ax = sns.countplot(x=jp, data=df);\n",
        "ax.set(xlabel='Do you know how to use jupyter notebook?')"
      ],
      "metadata": {
        "colab": {
          "base_uri": "https://localhost:8080/",
          "height": 466
        },
        "id": "RR-CesH8jArL",
        "outputId": "79090f04-f965-455a-e60f-f18374341191"
      },
      "execution_count": 14,
      "outputs": [
        {
          "output_type": "execute_result",
          "data": {
            "text/plain": [
              "[Text(0.5, 0, 'Do you know how to use jupyter notebook?')]"
            ]
          },
          "metadata": {},
          "execution_count": 14
        },
        {
          "output_type": "display_data",
          "data": {
            "text/plain": [
              "<Figure size 640x480 with 1 Axes>"
            ],
            "image/png": "[encoded data removed]"
          },
          "metadata": {}
        }
      ]
    },
    {
      "cell_type": "code",
      "source": [
        "df['sport'].value_counts().head()"
      ],
      "metadata": {
        "colab": {
          "base_uri": "https://localhost:8080/"
        },
        "id": "LfcvGhl54u6u",
        "outputId": "a2c34bdb-b4b3-4056-9b9b-8e7cc6ac0083"
      },
      "execution_count": 20,
      "outputs": [
        {
          "output_type": "execute_result",
          "data": {
            "text/plain": [
              "Футбол       197\n",
              "футбол       113\n",
              "Баскетбол    113\n",
              "Плавание      94\n",
              "Хоккей        66\n",
              "Name: sport, dtype: int64"
            ]
          },
          "metadata": {},
          "execution_count": 20
        }
      ]
    },
    {
      "cell_type": "code",
      "source": [
        "df['question_3'].unique()\n",
        "# the right answer was 2. let's see what % of people solved it\n",
        "\n",
        "# without NaN\n",
        "print(((df['question_3'] == 2).sum() / (df['question_3'][~df['question_3'].isnull()].shape[0]) * 100))"
      ],
      "metadata": {
        "colab": {
          "base_uri": "https://localhost:8080/"
        },
        "id": "NWkcwEBz5oMx",
        "outputId": "e87aa865-8489-4898-8957-d69345e8039f"
      },
      "execution_count": 50,
      "outputs": [
        {
          "output_type": "stream",
          "name": "stdout",
          "text": [
            "92.44036697247707\n"
          ]
        }
      ]
    },
    {
      "cell_type": "code",
      "source": [
        "df['question_3'][~df['question_3'].isnull()].shape[0]"
      ],
      "metadata": {
        "colab": {
          "base_uri": "https://localhost:8080/"
        },
        "id": "vfQBMR0J8iK4",
        "outputId": "0a013ef2-6b0a-4c1f-db66-c015c77ea9ba"
      },
      "execution_count": 51,
      "outputs": [
        {
          "output_type": "execute_result",
          "data": {
            "text/plain": [
              "2725"
            ]
          },
          "metadata": {},
          "execution_count": 51
        }
      ]
    },
    {
      "cell_type": "code",
      "source": [
        "df['intro'].apply(lambda x: x.strip().split()).head()"
      ],
      "metadata": {
        "colab": {
          "base_uri": "https://localhost:8080/"
        },
        "id": "FSzjFtcB9nxN",
        "outputId": "a4d95781-6412-4352-b8c3-132182ea0db8"
      },
      "execution_count": 53,
      "outputs": [
        {
          "output_type": "execute_result",
          "data": {
            "text/plain": [
              "id\n",
              "0                                  [крутой, Developer]\n",
              "1    [Разработчик, Navision., Изучаю, тему, DS, для...\n",
              "2    [Я, Software, Engeneer, разработчик,, активно,...\n",
              "3    [Семилетний, инженер., Специализируюсь, в, ком...\n",
              "5                       [программист., pl/sql, python]\n",
              "Name: intro, dtype: object"
            ]
          },
          "metadata": {},
          "execution_count": 53
        }
      ]
    },
    {
      "cell_type": "code",
      "source": [
        "# there is a concatenate method in numpy:\n",
        "arr = np.array([['a', 'b'], ['c', 'd']])\n",
        "np.concatenate(arr)"
      ],
      "metadata": {
        "colab": {
          "base_uri": "https://localhost:8080/"
        },
        "id": "ZFw8WON6-Hz5",
        "outputId": "be2f1409-cc8e-4374-f4e8-ba48e425d948"
      },
      "execution_count": 58,
      "outputs": [
        {
          "output_type": "execute_result",
          "data": {
            "text/plain": [
              "array(['a', 'b', 'c', 'd'], dtype='<U1')"
            ]
          },
          "metadata": {},
          "execution_count": 58
        }
      ]
    },
    {
      "cell_type": "code",
      "source": [
        "words_bag = np.concatenate(df['intro'].apply(lambda x: x.strip().split()).values)"
      ],
      "metadata": {
        "id": "ZYSaVSL2_b9B"
      },
      "execution_count": 71,
      "outputs": []
    },
    {
      "cell_type": "code",
      "source": [
        "len(words_bag)"
      ],
      "metadata": {
        "colab": {
          "base_uri": "https://localhost:8080/"
        },
        "id": "SMlEuqLo_ds1",
        "outputId": "26defeca-539e-4af2-b811-7f2fdea0f68e"
      },
      "execution_count": 72,
      "outputs": [
        {
          "output_type": "execute_result",
          "data": {
            "text/plain": [
              "26533"
            ]
          },
          "metadata": {},
          "execution_count": 72
        }
      ]
    },
    {
      "cell_type": "code",
      "source": [
        "words_bag[:5]"
      ],
      "metadata": {
        "colab": {
          "base_uri": "https://localhost:8080/"
        },
        "id": "OLmTseE_AJdK",
        "outputId": "d36169c4-195d-4150-98a2-2f7b64d74eb8"
      },
      "execution_count": 73,
      "outputs": [
        {
          "output_type": "execute_result",
          "data": {
            "text/plain": [
              "array(['крутой', 'Developer', 'Разработчик', 'Navision.', 'Изучаю'],\n",
              "      dtype='<U81')"
            ]
          },
          "metadata": {},
          "execution_count": 73
        }
      ]
    },
    {
      "cell_type": "code",
      "source": [
        "pd.Series(words_bag).value_counts().head()"
      ],
      "metadata": {
        "colab": {
          "base_uri": "https://localhost:8080/"
        },
        "id": "MNpIj51GAMy9",
        "outputId": "045222d1-2e87-40ce-9744-f768cbf50a8f"
      },
      "execution_count": 76,
      "outputs": [
        {
          "output_type": "execute_result",
          "data": {
            "text/plain": [
              "в          1235\n",
              "и           734\n",
              "на          409\n",
              "по          283\n",
              "Студент     279\n",
              "dtype: int64"
            ]
          },
          "metadata": {},
          "execution_count": 76
        }
      ]
    },
    {
      "cell_type": "code",
      "source": [
        "# ohhhh. we can see stopwords...\n",
        "# that sucks...\n",
        "# natural language toolkit will help us!"
      ],
      "metadata": {
        "id": "rP4I7ZZyAiod"
      },
      "execution_count": 77,
      "outputs": []
    },
    {
      "cell_type": "code",
      "source": [
        "from nltk.corpus import stopwords as sw\n",
        "import nltk"
      ],
      "metadata": {
        "id": "KxzzkWYfAs5H"
      },
      "execution_count": 82,
      "outputs": []
    },
    {
      "cell_type": "code",
      "source": [
        "nltk.download('stopwords')"
      ],
      "metadata": {
        "colab": {
          "base_uri": "https://localhost:8080/"
        },
        "id": "2O01_h4SCc7f",
        "outputId": "cc388923-9fb2-43cf-b454-c7ef29268ea5"
      },
      "execution_count": 83,
      "outputs": [
        {
          "output_type": "stream",
          "name": "stderr",
          "text": [
            "[nltk_data] Downloading package stopwords to /root/nltk_data...\n",
            "[nltk_data]   Unzipping corpora/stopwords.zip.\n"
          ]
        },
        {
          "output_type": "execute_result",
          "data": {
            "text/plain": [
              "True"
            ]
          },
          "metadata": {},
          "execution_count": 83
        }
      ]
    },
    {
      "cell_type": "code",
      "source": [
        "word_series = pd.Series(words_bag)\n",
        "\n",
        "# 10 most popular words in \"intro\" excepting stopwords\n",
        "word_series[~word_series.isin(sw.words('russian'))].value_counts().head()"
      ],
      "metadata": {
        "colab": {
          "base_uri": "https://localhost:8080/"
        },
        "id": "-KZAegWwBL8G",
        "outputId": "554b52ee-8fbf-4d32-93ab-65b934b8b658"
      },
      "execution_count": 86,
      "outputs": [
        {
          "output_type": "execute_result",
          "data": {
            "text/plain": [
              "Студент    279\n",
              "Работаю    201\n",
              "курса      187\n",
              "данных     178\n",
              "Data       173\n",
              "dtype: int64"
            ]
          },
          "metadata": {},
          "execution_count": 86
        }
      ]
    }
  ]
}